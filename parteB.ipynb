{
 "cells": [
  {
   "attachments": {},
   "cell_type": "markdown",
   "metadata": {},
   "source": [
    "# Parte B: Analítica"
   ]
  },
  {
   "cell_type": "code",
   "execution_count": 112,
   "metadata": {},
   "outputs": [],
   "source": [
    "import awswrangler as wr\n",
    "import boto3\n",
    "import matplotlib.pyplot as plt\n",
    "import seaborn as sns\n",
    "import pandas as pd"
   ]
  },
  {
   "attachments": {},
   "cell_type": "markdown",
   "metadata": {},
   "source": [
    "El query que usamos para construir la tabal externa `profeco` en la base de datos `profeco_db` es el siguiente"
   ]
  },
  {
   "cell_type": "code",
   "execution_count": 4,
   "metadata": {},
   "outputs": [],
   "source": [
    "query = '''\n",
    "    CREATE EXTERNAL TABLE IF NOT EXISTS `profeco_db`.`profeco` (\n",
    "    `producto` string,\n",
    "    `marca` string,\n",
    "    `categoria` string,\n",
    "    `precio` integer,\n",
    "    `fechaRegistro` string,\n",
    "    `giro` string,\n",
    "    `nombreComercial` string,\n",
    "    `direccion` string,\n",
    "    `estado` string,\n",
    "    `municipio` string,\n",
    "    `latitud` string,\n",
    "    `longitud` string\n",
    "    ) COMMENT \"Catalogos de QQP del 18 al 22\"\n",
    "    PARTITIONED BY (`catalogo` string) \n",
    "    ROW FORMAT SERDE 'org.apache.hadoop.hive.ql.io.parquet.serde.ParquetHiveSerDe'\n",
    "    WITH SERDEPROPERTIES ('field.delim' = ',')\n",
    "    STORED AS INPUTFORMAT 'org.apache.hadoop.mapred.TextInputFormat' OUTPUTFORMAT 'org.apache.hadoop.hive.ql.io.HiveIgnoreKeyTextOutputFormat'\n",
    "    LOCATION 's3://itam-analytics-abcd/preprocessing/merged/merged_parquet/'\n",
    "    TBLPROPERTIES ('classification' = 'parquet', \"skip.header.line.count\"=\"1\");\n",
    "'''"
   ]
  },
  {
   "attachments": {},
   "cell_type": "markdown",
   "metadata": {},
   "source": [
    "después ejecutamos el query `MSCK REPAIR TABLE` para datos en formato de estilo Hive: \n",
    "El comando MSCK REPAIR TABLE escanea un sistema de archivos, como Amazon S3, en busca de particiones compatibles con Hive. El comando las compara con las particiones que ya están presentes en la tabla y luego agrega las nuevas particiones al catálogo de datos. Ejecuta un comando similar al siguiente:"
   ]
  },
  {
   "cell_type": "code",
   "execution_count": null,
   "metadata": {},
   "outputs": [],
   "source": [
    "query = ''' \n",
    "    MSCK REPAIR TABLE profeco_db.profeco\n",
    "\n",
    "'''"
   ]
  },
  {
   "attachments": {},
   "cell_type": "markdown",
   "metadata": {},
   "source": [
    "# Analytics"
   ]
  },
  {
   "cell_type": "code",
   "execution_count": null,
   "metadata": {},
   "outputs": [],
   "source": [
    "session = boto3.Session(profile_name='brandon')\n",
    "s3_client = session.client('s3')"
   ]
  },
  {
   "attachments": {},
   "cell_type": "markdown",
   "metadata": {},
   "source": [
    "Consumimos la tabla anterior (`profeco_db.profeco`) desde Athena, para reponder: "
   ]
  },
  {
   "attachments": {},
   "cell_type": "markdown",
   "metadata": {},
   "source": [
    "## ¿De qué año a qué año tienen datos de esa categoría?"
   ]
  },
  {
   "attachments": {},
   "cell_type": "markdown",
   "metadata": {},
   "source": [
    "Para responder a esta pregunta, basta con averiguar los distintos años sobre los cuales se tienen registro."
   ]
  },
  {
   "cell_type": "code",
   "execution_count": 16,
   "metadata": {},
   "outputs": [],
   "source": [
    "query = '''\n",
    "    SELECT DISTINCT \n",
    "        YEAR(CAST(fecharegistro AS DATE)) AS Anio\n",
    "    FROM \"profeco_db\".\"profeco\"\n",
    "    WHERE categoria = 'APARATOS ELECTRICOS';\n",
    "'''"
   ]
  },
  {
   "cell_type": "code",
   "execution_count": 18,
   "metadata": {},
   "outputs": [
    {
     "data": {
      "text/html": [
       "<div>\n",
       "<style scoped>\n",
       "    .dataframe tbody tr th:only-of-type {\n",
       "        vertical-align: middle;\n",
       "    }\n",
       "\n",
       "    .dataframe tbody tr th {\n",
       "        vertical-align: top;\n",
       "    }\n",
       "\n",
       "    .dataframe thead th {\n",
       "        text-align: right;\n",
       "    }\n",
       "</style>\n",
       "<table border=\"1\" class=\"dataframe\">\n",
       "  <thead>\n",
       "    <tr style=\"text-align: right;\">\n",
       "      <th></th>\n",
       "      <th>Anio</th>\n",
       "    </tr>\n",
       "  </thead>\n",
       "  <tbody>\n",
       "    <tr>\n",
       "      <th>0</th>\n",
       "      <td>2018</td>\n",
       "    </tr>\n",
       "    <tr>\n",
       "      <th>1</th>\n",
       "      <td>2021</td>\n",
       "    </tr>\n",
       "    <tr>\n",
       "      <th>2</th>\n",
       "      <td>2019</td>\n",
       "    </tr>\n",
       "    <tr>\n",
       "      <th>3</th>\n",
       "      <td>2022</td>\n",
       "    </tr>\n",
       "    <tr>\n",
       "      <th>4</th>\n",
       "      <td>2020</td>\n",
       "    </tr>\n",
       "  </tbody>\n",
       "</table>\n",
       "</div>"
      ],
      "text/plain": [
       "   Anio\n",
       "0  2018\n",
       "1  2021\n",
       "2  2019\n",
       "3  2022\n",
       "4  2020"
      ]
     },
     "execution_count": 18,
     "metadata": {},
     "output_type": "execute_result"
    }
   ],
   "source": [
    "wr.athena.read_sql_query(query, database=\"profeco_db\", \n",
    "                         boto3_session=session,\n",
    "                         ctas_approach=False)"
   ]
  },
  {
   "attachments": {},
   "cell_type": "markdown",
   "metadata": {},
   "source": [
    "**RESPUESTA**: Hay registros para todos los años, _i.e_ 2018,2019,2020,2021,2022"
   ]
  },
  {
   "attachments": {},
   "cell_type": "markdown",
   "metadata": {},
   "source": [
    "## ¿Cuántos registros de fecha hay vacíos?"
   ]
  },
  {
   "cell_type": "code",
   "execution_count": 45,
   "metadata": {},
   "outputs": [],
   "source": [
    "query = '''\n",
    "    SELECT COUNT(*) AS num_registros_vacios \n",
    "    FROM \"profeco_db\".\"profeco\" \n",
    "    WHERE categoria = 'APARATOS ELECTRICOS' \n",
    "    AND (fecharegistro IS NULL OR fecharegistro = '');\n",
    "'''"
   ]
  },
  {
   "cell_type": "code",
   "execution_count": 46,
   "metadata": {},
   "outputs": [
    {
     "data": {
      "text/html": [
       "<div>\n",
       "<style scoped>\n",
       "    .dataframe tbody tr th:only-of-type {\n",
       "        vertical-align: middle;\n",
       "    }\n",
       "\n",
       "    .dataframe tbody tr th {\n",
       "        vertical-align: top;\n",
       "    }\n",
       "\n",
       "    .dataframe thead th {\n",
       "        text-align: right;\n",
       "    }\n",
       "</style>\n",
       "<table border=\"1\" class=\"dataframe\">\n",
       "  <thead>\n",
       "    <tr style=\"text-align: right;\">\n",
       "      <th></th>\n",
       "      <th>num_registros_vacios</th>\n",
       "    </tr>\n",
       "  </thead>\n",
       "  <tbody>\n",
       "    <tr>\n",
       "      <th>0</th>\n",
       "      <td>0</td>\n",
       "    </tr>\n",
       "  </tbody>\n",
       "</table>\n",
       "</div>"
      ],
      "text/plain": [
       "   num_registros_vacios\n",
       "0                     0"
      ]
     },
     "execution_count": 46,
     "metadata": {},
     "output_type": "execute_result"
    }
   ],
   "source": [
    "wr.athena.read_sql_query(query, database=\"profeco_db\", \n",
    "                         boto3_session=session,\n",
    "                         ctas_approach=False)"
   ]
  },
  {
   "attachments": {},
   "cell_type": "markdown",
   "metadata": {},
   "source": [
    "**RESPUESTA**: Ninguno"
   ]
  },
  {
   "attachments": {},
   "cell_type": "markdown",
   "metadata": {},
   "source": [
    "## ¿Cuántos registros tienes por año?"
   ]
  },
  {
   "cell_type": "code",
   "execution_count": 58,
   "metadata": {},
   "outputs": [],
   "source": [
    "query = '''\n",
    "    SELECT YEAR(CAST(fecharegistro AS DATE)) AS anio, COUNT(*) AS registros_by_anio\n",
    "    FROM \"profeco_db\".\"profeco\" \n",
    "    WHERE categoria = 'APARATOS ELECTRICOS' \n",
    "    GROUP BY \n",
    "        YEAR(CAST(fecharegistro AS DATE))\n",
    "    ORDER BY anio ASC\n",
    "'''"
   ]
  },
  {
   "cell_type": "code",
   "execution_count": 60,
   "metadata": {},
   "outputs": [
    {
     "name": "stdout",
     "output_type": "stream",
     "text": [
      "   anio  registros_by_anio\n",
      "0  2018            1054932\n",
      "1  2019             835971\n",
      "2  2020             367527\n",
      "3  2021             630072\n",
      "4  2022             665678\n"
     ]
    }
   ],
   "source": [
    "registros_anio = wr.athena.read_sql_query(query, database=\"profeco_db\", \n",
    "                         boto3_session=session,\n",
    "                         ctas_approach=False)\n",
    "print(registros_anio)"
   ]
  },
  {
   "attachments": {},
   "cell_type": "markdown",
   "metadata": {},
   "source": [
    "**RESPUESTA**: \n",
    "- En 2018: 1054932 registros\n",
    "- En 2019: 835971 registros\n",
    "- En 2020: 367527 registros\n",
    "- En 2021: 630072 registros\n",
    "- En 2022: 665678 registros"
   ]
  },
  {
   "cell_type": "code",
   "execution_count": 69,
   "metadata": {},
   "outputs": [
    {
     "data": {
      "image/png": "[encoded data removed]",
      "text/plain": [
       "<Figure size 1080x432 with 1 Axes>"
      ]
     },
     "metadata": {
      "needs_background": "light"
     },
     "output_type": "display_data"
    }
   ],
   "source": [
    "# Datos de la tabla\n",
    "anio = registros_anio['anio']\n",
    "registros = registros_anio['registros_by_anio']\n",
    "\n",
    "# Crear la figura y especificar el tamaño\n",
    "plt.figure(figsize=(15, 6))\n",
    "\n",
    "# Crear el gráfico de barras\n",
    "plt.bar(anio, registros)\n",
    "\n",
    "# Etiquetas de los ejes\n",
    "plt.xlabel('Año')\n",
    "plt.ylabel('Registros')\n",
    "\n",
    "# Título del gráfico\n",
    "plt.title('Registros por año')\n",
    "\n",
    "# Mostrar el gráfico\n",
    "plt.show()"
   ]
  },
  {
   "attachments": {},
   "cell_type": "markdown",
   "metadata": {},
   "source": [
    "## ¿Cuál es el precio mínimo, máximo, promedio, desviación estándar, mediana, cuantil 25 y 75% de tu categoría por año?"
   ]
  },
  {
   "cell_type": "code",
   "execution_count": 93,
   "metadata": {},
   "outputs": [],
   "source": [
    "query = '''\n",
    "    SELECT\n",
    "        YEAR(CAST(fecharegistro AS DATE)) AS anio,\n",
    "        MIN(precio) AS minimo,\n",
    "        MAX(precio) AS maximo,\n",
    "        AVG(precio) AS media,\n",
    "        STDDEV(precio) AS sd,\n",
    "        APPROX_PERCENTILE(precio, 0.25) AS cuartil_1,\n",
    "        APPROX_PERCENTILE(precio, 0.5) AS mediana,\n",
    "        APPROX_PERCENTILE(precio, 0.75) AS cuartil_3\n",
    "    FROM \"profeco_db\".\"profeco\" \n",
    "    WHERE categoria = 'APARATOS ELECTRICOS' \n",
    "    GROUP BY \n",
    "        YEAR(CAST(fecharegistro AS DATE))\n",
    "    ORDER BY anio ASC\n",
    "'''"
   ]
  },
  {
   "cell_type": "code",
   "execution_count": 94,
   "metadata": {},
   "outputs": [],
   "source": [
    "basic_stats_by_year = wr.athena.read_sql_query(query, database=\"profeco_db\", \n",
    "                         boto3_session=session,\n",
    "                         ctas_approach=False)"
   ]
  },
  {
   "cell_type": "code",
   "execution_count": 95,
   "metadata": {},
   "outputs": [
    {
     "data": {
      "text/html": [
       "<div>\n",
       "<style scoped>\n",
       "    .dataframe tbody tr th:only-of-type {\n",
       "        vertical-align: middle;\n",
       "    }\n",
       "\n",
       "    .dataframe tbody tr th {\n",
       "        vertical-align: top;\n",
       "    }\n",
       "\n",
       "    .dataframe thead th {\n",
       "        text-align: right;\n",
       "    }\n",
       "</style>\n",
       "<table border=\"1\" class=\"dataframe\">\n",
       "  <thead>\n",
       "    <tr style=\"text-align: right;\">\n",
       "      <th></th>\n",
       "      <th>anio</th>\n",
       "      <th>minimo</th>\n",
       "      <th>maximo</th>\n",
       "      <th>media</th>\n",
       "      <th>sd</th>\n",
       "      <th>cuartil_1</th>\n",
       "      <th>mediana</th>\n",
       "      <th>cuartil_3</th>\n",
       "    </tr>\n",
       "  </thead>\n",
       "  <tbody>\n",
       "    <tr>\n",
       "      <th>0</th>\n",
       "      <td>2018</td>\n",
       "      <td>115</td>\n",
       "      <td>48999</td>\n",
       "      <td>4879.580198</td>\n",
       "      <td>5274.356725</td>\n",
       "      <td>709</td>\n",
       "      <td>2399</td>\n",
       "      <td>8159</td>\n",
       "    </tr>\n",
       "    <tr>\n",
       "      <th>1</th>\n",
       "      <td>2019</td>\n",
       "      <td>114</td>\n",
       "      <td>64999</td>\n",
       "      <td>5003.073061</td>\n",
       "      <td>5424.266405</td>\n",
       "      <td>749</td>\n",
       "      <td>2599</td>\n",
       "      <td>8298</td>\n",
       "    </tr>\n",
       "    <tr>\n",
       "      <th>2</th>\n",
       "      <td>2020</td>\n",
       "      <td>119</td>\n",
       "      <td>68499</td>\n",
       "      <td>5279.517165</td>\n",
       "      <td>5641.490974</td>\n",
       "      <td>766</td>\n",
       "      <td>2899</td>\n",
       "      <td>8699</td>\n",
       "    </tr>\n",
       "    <tr>\n",
       "      <th>3</th>\n",
       "      <td>2021</td>\n",
       "      <td>138</td>\n",
       "      <td>75899</td>\n",
       "      <td>5959.799675</td>\n",
       "      <td>6151.964051</td>\n",
       "      <td>849</td>\n",
       "      <td>3711</td>\n",
       "      <td>9599</td>\n",
       "    </tr>\n",
       "    <tr>\n",
       "      <th>4</th>\n",
       "      <td>2022</td>\n",
       "      <td>62</td>\n",
       "      <td>60719</td>\n",
       "      <td>6640.896222</td>\n",
       "      <td>6760.628183</td>\n",
       "      <td>1039</td>\n",
       "      <td>4299</td>\n",
       "      <td>10690</td>\n",
       "    </tr>\n",
       "  </tbody>\n",
       "</table>\n",
       "</div>"
      ],
      "text/plain": [
       "   anio  minimo  maximo        media           sd  cuartil_1  mediana  \\\n",
       "0  2018     115   48999  4879.580198  5274.356725        709     2399   \n",
       "1  2019     114   64999  5003.073061  5424.266405        749     2599   \n",
       "2  2020     119   68499  5279.517165  5641.490974        766     2899   \n",
       "3  2021     138   75899  5959.799675  6151.964051        849     3711   \n",
       "4  2022      62   60719  6640.896222  6760.628183       1039     4299   \n",
       "\n",
       "   cuartil_3  \n",
       "0       8159  \n",
       "1       8298  \n",
       "2       8699  \n",
       "3       9599  \n",
       "4      10690  "
      ]
     },
     "execution_count": 95,
     "metadata": {},
     "output_type": "execute_result"
    }
   ],
   "source": [
    "basic_stats_by_year"
   ]
  },
  {
   "attachments": {},
   "cell_type": "markdown",
   "metadata": {},
   "source": [
    "## Genera un boxplot por año de tu categoría."
   ]
  },
  {
   "cell_type": "code",
   "execution_count": 126,
   "metadata": {},
   "outputs": [],
   "source": [
    "five_numbers_resume = basic_stats_by_year.drop(['media','sd'], axis=1)"
   ]
  },
  {
   "cell_type": "code",
   "execution_count": 127,
   "metadata": {},
   "outputs": [
    {
     "data": {
      "text/html": [
       "<div>\n",
       "<style scoped>\n",
       "    .dataframe tbody tr th:only-of-type {\n",
       "        vertical-align: middle;\n",
       "    }\n",
       "\n",
       "    .dataframe tbody tr th {\n",
       "        vertical-align: top;\n",
       "    }\n",
       "\n",
       "    .dataframe thead th {\n",
       "        text-align: right;\n",
       "    }\n",
       "</style>\n",
       "<table border=\"1\" class=\"dataframe\">\n",
       "  <thead>\n",
       "    <tr style=\"text-align: right;\">\n",
       "      <th></th>\n",
       "      <th>anio</th>\n",
       "      <th>minimo</th>\n",
       "      <th>maximo</th>\n",
       "      <th>cuartil_1</th>\n",
       "      <th>mediana</th>\n",
       "      <th>cuartil_3</th>\n",
       "    </tr>\n",
       "  </thead>\n",
       "  <tbody>\n",
       "    <tr>\n",
       "      <th>0</th>\n",
       "      <td>2018</td>\n",
       "      <td>115</td>\n",
       "      <td>48999</td>\n",
       "      <td>709</td>\n",
       "      <td>2399</td>\n",
       "      <td>8159</td>\n",
       "    </tr>\n",
       "    <tr>\n",
       "      <th>1</th>\n",
       "      <td>2019</td>\n",
       "      <td>114</td>\n",
       "      <td>64999</td>\n",
       "      <td>749</td>\n",
       "      <td>2599</td>\n",
       "      <td>8298</td>\n",
       "    </tr>\n",
       "    <tr>\n",
       "      <th>2</th>\n",
       "      <td>2020</td>\n",
       "      <td>119</td>\n",
       "      <td>68499</td>\n",
       "      <td>766</td>\n",
       "      <td>2899</td>\n",
       "      <td>8699</td>\n",
       "    </tr>\n",
       "    <tr>\n",
       "      <th>3</th>\n",
       "      <td>2021</td>\n",
       "      <td>138</td>\n",
       "      <td>75899</td>\n",
       "      <td>849</td>\n",
       "      <td>3711</td>\n",
       "      <td>9599</td>\n",
       "    </tr>\n",
       "    <tr>\n",
       "      <th>4</th>\n",
       "      <td>2022</td>\n",
       "      <td>62</td>\n",
       "      <td>60719</td>\n",
       "      <td>1039</td>\n",
       "      <td>4299</td>\n",
       "      <td>10690</td>\n",
       "    </tr>\n",
       "  </tbody>\n",
       "</table>\n",
       "</div>"
      ],
      "text/plain": [
       "   anio  minimo  maximo  cuartil_1  mediana  cuartil_3\n",
       "0  2018     115   48999        709     2399       8159\n",
       "1  2019     114   64999        749     2599       8298\n",
       "2  2020     119   68499        766     2899       8699\n",
       "3  2021     138   75899        849     3711       9599\n",
       "4  2022      62   60719       1039     4299      10690"
      ]
     },
     "execution_count": 127,
     "metadata": {},
     "output_type": "execute_result"
    }
   ],
   "source": [
    "five_numbers_resume"
   ]
  },
  {
   "cell_type": "code",
   "execution_count": 128,
   "metadata": {},
   "outputs": [],
   "source": [
    "five_numbers_resume = pd.melt(five_numbers_resume, id_vars='anio', var_name='estadistica', value_name='precio')"
   ]
  },
  {
   "cell_type": "code",
   "execution_count": 122,
   "metadata": {},
   "outputs": [
    {
     "data": {
      "text/plain": [
       "<AxesSubplot:xlabel='anio', ylabel='precio'>"
      ]
     },
     "execution_count": 122,
     "metadata": {},
     "output_type": "execute_result"
    },
    {
     "data": {
      "image/png": "[encoded data removed]",
      "text/plain": [
       "<Figure size 432x288 with 1 Axes>"
      ]
     },
     "metadata": {
      "needs_background": "light"
     },
     "output_type": "display_data"
    }
   ],
   "source": [
    "sns.boxplot(x = 'anio', y = 'precio', data = five_numbers_resume, showfliers=False)"
   ]
  }
 ],
 "metadata": {
  "kernelspec": {
   "display_name": "itam",
   "language": "python",
   "name": "python3"
  },
  "language_info": {
   "codemirror_mode": {
    "name": "ipython",
    "version": 3
   },
   "file_extension": ".py",
   "mimetype": "text/x-python",
   "name": "python",
   "nbconvert_exporter": "python",
   "pygments_lexer": "ipython3",
   "version": "3.10.9"
  },
  "orig_nbformat": 4
 },
 "nbformat": 4,
 "nbformat_minor": 2
}
