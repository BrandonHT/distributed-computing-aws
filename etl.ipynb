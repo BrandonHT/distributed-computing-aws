{
 "cells": [
  {
   "cell_type": "code",
   "execution_count": 1,
   "id": "c968e8cd",
   "metadata": {},
   "outputs": [],
   "source": [
    "import pandas as pd "
   ]
  },
  {
   "cell_type": "code",
   "execution_count": 39,
   "id": "04b0f4bb",
   "metadata": {},
   "outputs": [],
   "source": [
    "PATH = \"/Users/christopher/Downloads/2022/\""
   ]
  },
  {
   "cell_type": "code",
   "execution_count": 35,
   "id": "56670ae7",
   "metadata": {},
   "outputs": [],
   "source": [
    "\n",
    "from os import listdir\n",
    "\n",
    "def find_csv_filenames(path_to_dir, suffix=\".csv\"):\n",
    "    filenames = listdir(path_to_dir)\n",
    "    return [ filename for filename in filenames if filename.endswith( suffix ) ]\n"
   ]
  },
  {
   "cell_type": "code",
   "execution_count": 40,
   "id": "7084a3f9",
   "metadata": {},
   "outputs": [],
   "source": [
    "files = find_csv_filenames(PATH)"
   ]
  },
  {
   "cell_type": "code",
   "execution_count": 42,
   "id": "30dbb290",
   "metadata": {},
   "outputs": [],
   "source": [
    "columns = [\n",
    "    \"producto\",\n",
    "    \"presentacion\",\n",
    "    \"marca\",\n",
    "    \"categoria\",\n",
    "    \"catalogo\",\n",
    "    \"precio\",\n",
    "    \"fechaRegistro\",\n",
    "    \"cadenaComercial\",\n",
    "    \"giro\",\n",
    "    \"nombreComercial\",\n",
    "    \"direccion\",\n",
    "    \"estado\",\n",
    "    \"municipio\",\n",
    "    \"latitud\",\n",
    "    \"longitud\"\n",
    "]"
   ]
  },
  {
   "cell_type": "code",
   "execution_count": 44,
   "id": "14548846",
   "metadata": {},
   "outputs": [],
   "source": [
    "_init = 0\n",
    "for file in files:\n",
    "    df = pd.read_csv(PATH+file, names=columns, header=None)\n",
    "    df = df[(df[\"categoria\"].str.contains(\"APARATOS ELECTRICOS\")) | (df[\"categoria\"].str.contains(\"APARATOS ELECTRONICOS\"))]\n",
    "    if _init == 0:\n",
    "        df.to_csv('clean_data.csv', index=False)\n",
    "    else:\n",
    "        df.to_csv('clean_data.csv', mode='a', index=False, header=False)\n",
    "    _init  += 1\n"
   ]
  },
  {
   "cell_type": "code",
   "execution_count": null,
   "id": "7d8f38ed",
   "metadata": {},
   "outputs": [],
   "source": []
  }
 ],
 "metadata": {
  "kernelspec": {
   "display_name": "Python 3 (ipykernel)",
   "language": "python",
   "name": "python3"
  },
  "language_info": {
   "codemirror_mode": {
    "name": "ipython",
    "version": 3
   },
   "file_extension": ".py",
   "mimetype": "text/x-python",
   "name": "python",
   "nbconvert_exporter": "python",
   "pygments_lexer": "ipython3",
   "version": "3.10.0"
  }
 },
 "nbformat": 4,
 "nbformat_minor": 5
}
