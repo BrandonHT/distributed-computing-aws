{
 "cells": [
  {
   "cell_type": "markdown",
   "id": "8eb89f2f",
   "metadata": {},
   "source": [
    "# Demo Spark en Cluster\n",
    "\n",
    "Este demo utiliza los siguientes datos [New York City Taxi and Limousine Commission (TLC) Trip Record Data](https://aws.amazon.com/marketplace/pp/prodview-okyonroqg5b2u?sr=0-1&ref_=beagle&applicationId=AWSMPContessa#usage)"
   ]
  },
  {
   "cell_type": "code",
   "execution_count": 1,
   "id": "81eae6e5",
   "metadata": {},
   "outputs": [
    {
     "data": {
      "text/html": [
       "<style>\n",
       "div.output_area pre {\n",
       "    white-space: pre;\n",
       "}\n",
       "</style>\n"
      ],
      "text/plain": [
       "<IPython.core.display.HTML object>"
      ]
     },
     "metadata": {},
     "output_type": "display_data"
    }
   ],
   "source": [
    "%%html\n",
    "<style>\n",
    "div.output_area pre {\n",
    "    white-space: pre;\n",
    "}\n",
    "</style>"
   ]
  },
  {
   "cell_type": "code",
   "execution_count": 24,
   "id": "236a8c5a",
   "metadata": {
    "scrolled": true
   },
   "outputs": [
    {
     "data": {
      "application/vnd.jupyter.widget-view+json": {
       "model_id": "",
       "version_major": 2,
       "version_minor": 0
      },
      "text/plain": [
       "FloatProgress(value=0.0, bar_style='info', description='Progress:', layout=Layout(height='25px', width='50%'),…"
      ]
     },
     "metadata": {},
     "output_type": "display_data"
    }
   ],
   "source": [
    "# Importar librerías\n",
    "from pyspark.sql import SparkSession\n",
    "\n",
    "# Importar funciones únicas\n",
    "from pyspark.sql.functions import lit, col\n",
    "from pyspark.sql.types import IntegerType,BooleanType,DateType\n",
    "\n",
    "# Importar funciones con un alias, que pudieran \n",
    "# tener conflicto con las librerías base de Python, \n",
    "# como sum, avg, round, ...\n",
    "import pyspark.sql.functions as F"
   ]
  },
  {
   "cell_type": "markdown",
   "id": "bcc7c1ef",
   "metadata": {},
   "source": [
    "Recuerda que vamos a trabajar con spark dataframes, por lo tanto tienes que abrir un SparkSession"
   ]
  },
  {
   "cell_type": "code",
   "execution_count": 3,
   "id": "d468deb9",
   "metadata": {},
   "outputs": [
    {
     "data": {
      "application/vnd.jupyter.widget-view+json": {
       "model_id": "",
       "version_major": 2,
       "version_minor": 0
      },
      "text/plain": [
       "FloatProgress(value=0.0, bar_style='info', description='Progress:', layout=Layout(height='25px', width='50%'),…"
      ]
     },
     "metadata": {},
     "output_type": "display_data"
    }
   ],
   "source": [
    "spark = SparkSession.builder.appName('Productos electronicos').getOrCreate()"
   ]
  },
  {
   "cell_type": "markdown",
   "id": "d5e983b8",
   "metadata": {},
   "source": [
    "Hay que cargar los datasets, nota que podemos utilizar wildcards para leer varios parquets al mismo tiempo."
   ]
  },
  {
   "cell_type": "code",
   "execution_count": 6,
   "id": "2589df5a",
   "metadata": {},
   "outputs": [
    {
     "data": {
      "application/vnd.jupyter.widget-view+json": {
       "model_id": "",
       "version_major": 2,
       "version_minor": 0
      },
      "text/plain": [
       "FloatProgress(value=0.0, bar_style='info', description='Progress:', layout=Layout(height='25px', width='50%'),…"
      ]
     },
     "metadata": {},
     "output_type": "display_data"
    }
   ],
   "source": [
    "prueba = spark.read.option(\"header\", False).csv(\"s3://itam-analytics-abcd/2022\")"
   ]
  },
  {
   "cell_type": "code",
   "execution_count": 7,
   "id": "fc59f7de",
   "metadata": {},
   "outputs": [
    {
     "data": {
      "application/vnd.jupyter.widget-view+json": {
       "model_id": "",
       "version_major": 2,
       "version_minor": 0
      },
      "text/plain": [
       "FloatProgress(value=0.0, bar_style='info', description='Progress:', layout=Layout(height='25px', width='50%'),…"
      ]
     },
     "metadata": {},
     "output_type": "display_data"
    },
    {
     "name": "stdout",
     "output_type": "stream",
     "text": [
      "+---------------+---------------------------------------------+--------------+----------------------------------+------------+------+----------+------------+-------------------------------------+------------------------------------+---------------------------------------------------------------------------------+--------------+--------------+---------+-----------+\n",
      "|_c0            |_c1                                          |_c2           |_c3                               |_c4         |_c5   |_c6       |_c7         |_c8                                  |_c9                                 |_c10                                                                             |_c11          |_c12          |_c13     |_c14       |\n",
      "+---------------+---------------------------------------------+--------------+----------------------------------+------------+------+----------+------------+-------------------------------------+------------------------------------+---------------------------------------------------------------------------------+--------------+--------------+---------+-----------+\n",
      "|A.S.COR        |FRASCO GOTERO 24 ML. 1.000 G., SOLUCION GOTAS|S/M           |MEDICAMENTOS                      |MEDICAMENTOS|365.00|2022-08-15|MEGA SORIANA|SUPERMERCADO / TIENDA DE AUTOSERVICIO|MEGA SORIANA SUCURSAL AGUASCALIENTES|AGUASCALIENTES NTE. 802, ESQ. BLVD. A ZACATECAS, COL. TROJES DE ALONSO, CP. 20116|AGUASCALIENTES|AGUASCALIENTES|21.916001|-102.290779|\n",
      "|ACEITE         |BOTELLA 1 LT. MIXTO                          |1-2-3         |ACEITES Y GRASAS VEG. COMESTIBLES |BASICOS     |52.50 |2022-08-15|MEGA SORIANA|SUPERMERCADO / TIENDA DE AUTOSERVICIO|MEGA SORIANA SUCURSAL AGUASCALIENTES|AGUASCALIENTES NTE. 802, ESQ. BLVD. A ZACATECAS, COL. TROJES DE ALONSO, CP. 20116|AGUASCALIENTES|AGUASCALIENTES|21.916001|-102.290779|\n",
      "|ACEITE         |BOTELLA 850 ML. VEGETAL                      |AVE           |ACEITES Y GRASAS VEG. COMESTIBLES |PACIC       |36.90 |2022-08-15|MEGA SORIANA|SUPERMERCADO / TIENDA DE AUTOSERVICIO|MEGA SORIANA SUCURSAL AGUASCALIENTES|AGUASCALIENTES NTE. 802, ESQ. BLVD. A ZACATECAS, COL. TROJES DE ALONSO, CP. 20116|AGUASCALIENTES|AGUASCALIENTES|21.916001|-102.290779|\n",
      "|ACEITE         |BOTELLA 946 ML. CANOLA                       |CANOIL        |ACEITES Y GRASAS VEG. COMESTIBLES |BASICOS     |47.00 |2022-08-15|MEGA SORIANA|SUPERMERCADO / TIENDA DE AUTOSERVICIO|MEGA SORIANA SUCURSAL AGUASCALIENTES|AGUASCALIENTES NTE. 802, ESQ. BLVD. A ZACATECAS, COL. TROJES DE ALONSO, CP. 20116|AGUASCALIENTES|AGUASCALIENTES|21.916001|-102.290779|\n",
      "|ACEITE         |BOTELLA 840 ML. CANOLA                       |CAPULLO       |ACEITES Y GRASAS VEG. COMESTIBLES |BASICOS     |75.00 |2022-08-15|MEGA SORIANA|SUPERMERCADO / TIENDA DE AUTOSERVICIO|MEGA SORIANA SUCURSAL AGUASCALIENTES|AGUASCALIENTES NTE. 802, ESQ. BLVD. A ZACATECAS, COL. TROJES DE ALONSO, CP. 20116|AGUASCALIENTES|AGUASCALIENTES|21.916001|-102.290779|\n",
      "|ACEITE         |BOTELLA 900 ML. MIXTO                        |GRAN TRADICIÓN|ACEITES Y GRASAS VEG. COMESTIBLES |BASICOS     |43.90 |2022-08-15|MEGA SORIANA|SUPERMERCADO / TIENDA DE AUTOSERVICIO|MEGA SORIANA SUCURSAL AGUASCALIENTES|AGUASCALIENTES NTE. 802, ESQ. BLVD. A ZACATECAS, COL. TROJES DE ALONSO, CP. 20116|AGUASCALIENTES|AGUASCALIENTES|21.916001|-102.290779|\n",
      "|ACEITE         |BOTELLA 765 ML. MAÍZ                         |MAZOLA        |ACEITES Y GRASAS VEG. COMESTIBLES |BASICOS     |72.00 |2022-08-15|MEGA SORIANA|SUPERMERCADO / TIENDA DE AUTOSERVICIO|MEGA SORIANA SUCURSAL AGUASCALIENTES|AGUASCALIENTES NTE. 802, ESQ. BLVD. A ZACATECAS, COL. TROJES DE ALONSO, CP. 20116|AGUASCALIENTES|AGUASCALIENTES|21.916001|-102.290779|\n",
      "|ACEITE         |BOTELLA 850 ML. SOYA                         |NUTRIOLI      |ACEITES Y GRASAS VEG. COMESTIBLES |BASICOS     |49.50 |2022-08-15|MEGA SORIANA|SUPERMERCADO / TIENDA DE AUTOSERVICIO|MEGA SORIANA SUCURSAL AGUASCALIENTES|AGUASCALIENTES NTE. 802, ESQ. BLVD. A ZACATECAS, COL. TROJES DE ALONSO, CP. 20116|AGUASCALIENTES|AGUASCALIENTES|21.916001|-102.290779|\n",
      "|ACEITE         |BOTELLA 850 ML. MIXTO. SABOR MANTEQUILLA     |SABROSANO     |ACEITES Y GRASAS VEG. COMESTIBLES |BASICOS     |45.00 |2022-08-15|MEGA SORIANA|SUPERMERCADO / TIENDA DE AUTOSERVICIO|MEGA SORIANA SUCURSAL AGUASCALIENTES|AGUASCALIENTES NTE. 802, ESQ. BLVD. A ZACATECAS, COL. TROJES DE ALONSO, CP. 20116|AGUASCALIENTES|AGUASCALIENTES|21.916001|-102.290779|\n",
      "|ACEITE DE OLIVA|BOTELLA 750 ML. EXTRA VIRGEN                 |CARBONELL     |PRODUCTOS DE TEMPORADA (NAVIDEÑOS)|BASICOS     |182.00|2022-08-15|MEGA SORIANA|SUPERMERCADO / TIENDA DE AUTOSERVICIO|MEGA SORIANA SUCURSAL AGUASCALIENTES|AGUASCALIENTES NTE. 802, ESQ. BLVD. A ZACATECAS, COL. TROJES DE ALONSO, CP. 20116|AGUASCALIENTES|AGUASCALIENTES|21.916001|-102.290779|\n",
      "+---------------+---------------------------------------------+--------------+----------------------------------+------------+------+----------+------------+-------------------------------------+------------------------------------+---------------------------------------------------------------------------------+--------------+--------------+---------+-----------+\n",
      "only showing top 10 rows"
     ]
    }
   ],
   "source": [
    "prueba.show(10, False)"
   ]
  },
  {
   "cell_type": "code",
   "execution_count": 8,
   "id": "9032d15b",
   "metadata": {},
   "outputs": [
    {
     "data": {
      "application/vnd.jupyter.widget-view+json": {
       "model_id": "",
       "version_major": 2,
       "version_minor": 0
      },
      "text/plain": [
       "FloatProgress(value=0.0, bar_style='info', description='Progress:', layout=Layout(height='25px', width='50%'),…"
      ]
     },
     "metadata": {},
     "output_type": "display_data"
    },
    {
     "name": "stdout",
     "output_type": "stream",
     "text": [
      "14449481"
     ]
    }
   ],
   "source": [
    "prueba.count()"
   ]
  },
  {
   "cell_type": "code",
   "execution_count": 9,
   "id": "cb1e6491",
   "metadata": {},
   "outputs": [
    {
     "data": {
      "application/vnd.jupyter.widget-view+json": {
       "model_id": "",
       "version_major": 2,
       "version_minor": 0
      },
      "text/plain": [
       "FloatProgress(value=0.0, bar_style='info', description='Progress:', layout=Layout(height='25px', width='50%'),…"
      ]
     },
     "metadata": {},
     "output_type": "display_data"
    }
   ],
   "source": [
    "prueba = prueba.withColumnRenamed(\"_c0\", \"producto\")\\\n",
    "       .withColumnRenamed(\"_c1\", \"presentacion\")\\\n",
    "       .withColumnRenamed(\"_c2\", \"marca\")\\\n",
    "       .withColumnRenamed(\"_c3\", \"categoria\")\\\n",
    "       .withColumnRenamed(\"_c4\", \"catalogo\")\\\n",
    "       .withColumnRenamed(\"_c5\", \"precio\")\\\n",
    "       .withColumnRenamed(\"_c6\", \"fechaRegistro\")\\\n",
    "       .withColumnRenamed(\"_c7\", \"cadenaComercial\")\\\n",
    "       .withColumnRenamed(\"_c8\", \"giro\")\\\n",
    "       .withColumnRenamed(\"_c9\", \"nombreComercial\")\\\n",
    "       .withColumnRenamed(\"_c10\", \"direccion\")\\\n",
    "       .withColumnRenamed(\"_c11\", \"estado\")\\\n",
    "       .withColumnRenamed(\"_c12\", \"municipio\")\\\n",
    "       .withColumnRenamed(\"_c13\", \"latitud\")\\\n",
    "       .withColumnRenamed(\"_c14\", \"longitud\")\\"
   ]
  },
  {
   "cell_type": "code",
   "execution_count": 10,
   "id": "c79fcc1c",
   "metadata": {},
   "outputs": [
    {
     "data": {
      "application/vnd.jupyter.widget-view+json": {
       "model_id": "",
       "version_major": 2,
       "version_minor": 0
      },
      "text/plain": [
       "FloatProgress(value=0.0, bar_style='info', description='Progress:', layout=Layout(height='25px', width='50%'),…"
      ]
     },
     "metadata": {},
     "output_type": "display_data"
    },
    {
     "name": "stdout",
     "output_type": "stream",
     "text": [
      "+--------+---------------------------------------------+-------+---------------------------------+------------+------+-------------+---------------+-------------------------------------+------------------------------------+---------------------------------------------------------------------------------+--------------+--------------+---------+-----------+\n",
      "|producto|presentacion                                 |marca  |categoria                        |catalogo    |precio|fechaRegistro|cadenaComercial|giro                                 |nombreComercial                     |direccion                                                                        |estado        |municipio     |latitud  |longitud   |\n",
      "+--------+---------------------------------------------+-------+---------------------------------+------------+------+-------------+---------------+-------------------------------------+------------------------------------+---------------------------------------------------------------------------------+--------------+--------------+---------+-----------+\n",
      "|A.S.COR |FRASCO GOTERO 24 ML. 1.000 G., SOLUCION GOTAS|S/M    |MEDICAMENTOS                     |MEDICAMENTOS|365.00|2022-08-15   |MEGA SORIANA   |SUPERMERCADO / TIENDA DE AUTOSERVICIO|MEGA SORIANA SUCURSAL AGUASCALIENTES|AGUASCALIENTES NTE. 802, ESQ. BLVD. A ZACATECAS, COL. TROJES DE ALONSO, CP. 20116|AGUASCALIENTES|AGUASCALIENTES|21.916001|-102.290779|\n",
      "|ACEITE  |BOTELLA 1 LT. MIXTO                          |1-2-3  |ACEITES Y GRASAS VEG. COMESTIBLES|BASICOS     |52.50 |2022-08-15   |MEGA SORIANA   |SUPERMERCADO / TIENDA DE AUTOSERVICIO|MEGA SORIANA SUCURSAL AGUASCALIENTES|AGUASCALIENTES NTE. 802, ESQ. BLVD. A ZACATECAS, COL. TROJES DE ALONSO, CP. 20116|AGUASCALIENTES|AGUASCALIENTES|21.916001|-102.290779|\n",
      "|ACEITE  |BOTELLA 850 ML. VEGETAL                      |AVE    |ACEITES Y GRASAS VEG. COMESTIBLES|PACIC       |36.90 |2022-08-15   |MEGA SORIANA   |SUPERMERCADO / TIENDA DE AUTOSERVICIO|MEGA SORIANA SUCURSAL AGUASCALIENTES|AGUASCALIENTES NTE. 802, ESQ. BLVD. A ZACATECAS, COL. TROJES DE ALONSO, CP. 20116|AGUASCALIENTES|AGUASCALIENTES|21.916001|-102.290779|\n",
      "|ACEITE  |BOTELLA 946 ML. CANOLA                       |CANOIL |ACEITES Y GRASAS VEG. COMESTIBLES|BASICOS     |47.00 |2022-08-15   |MEGA SORIANA   |SUPERMERCADO / TIENDA DE AUTOSERVICIO|MEGA SORIANA SUCURSAL AGUASCALIENTES|AGUASCALIENTES NTE. 802, ESQ. BLVD. A ZACATECAS, COL. TROJES DE ALONSO, CP. 20116|AGUASCALIENTES|AGUASCALIENTES|21.916001|-102.290779|\n",
      "|ACEITE  |BOTELLA 840 ML. CANOLA                       |CAPULLO|ACEITES Y GRASAS VEG. COMESTIBLES|BASICOS     |75.00 |2022-08-15   |MEGA SORIANA   |SUPERMERCADO / TIENDA DE AUTOSERVICIO|MEGA SORIANA SUCURSAL AGUASCALIENTES|AGUASCALIENTES NTE. 802, ESQ. BLVD. A ZACATECAS, COL. TROJES DE ALONSO, CP. 20116|AGUASCALIENTES|AGUASCALIENTES|21.916001|-102.290779|\n",
      "+--------+---------------------------------------------+-------+---------------------------------+------------+------+-------------+---------------+-------------------------------------+------------------------------------+---------------------------------------------------------------------------------+--------------+--------------+---------+-----------+\n",
      "only showing top 5 rows"
     ]
    }
   ],
   "source": [
    "prueba.show(5,False)"
   ]
  },
  {
   "cell_type": "code",
   "execution_count": 31,
   "id": "9d98fb87",
   "metadata": {},
   "outputs": [
    {
     "data": {
      "application/vnd.jupyter.widget-view+json": {
       "model_id": "",
       "version_major": 2,
       "version_minor": 0
      },
      "text/plain": [
       "FloatProgress(value=0.0, bar_style='info', description='Progress:', layout=Layout(height='25px', width='50%'),…"
      ]
     },
     "metadata": {},
     "output_type": "display_data"
    }
   ],
   "source": [
    "prueba = prueba.withColumn(\"precio\",col(\"precio\").cast(IntegerType()))"
   ]
  },
  {
   "cell_type": "code",
   "execution_count": 32,
   "id": "d64a22c2",
   "metadata": {},
   "outputs": [
    {
     "data": {
      "application/vnd.jupyter.widget-view+json": {
       "model_id": "",
       "version_major": 2,
       "version_minor": 0
      },
      "text/plain": [
       "FloatProgress(value=0.0, bar_style='info', description='Progress:', layout=Layout(height='25px', width='50%'),…"
      ]
     },
     "metadata": {},
     "output_type": "display_data"
    },
    {
     "name": "stdout",
     "output_type": "stream",
     "text": [
      "root\n",
      " |-- producto: string (nullable = true)\n",
      " |-- presentacion: string (nullable = true)\n",
      " |-- marca: string (nullable = true)\n",
      " |-- categoria: string (nullable = true)\n",
      " |-- catalogo: string (nullable = true)\n",
      " |-- precio: integer (nullable = true)\n",
      " |-- fechaRegistro: string (nullable = true)\n",
      " |-- cadenaComercial: string (nullable = true)\n",
      " |-- giro: string (nullable = true)\n",
      " |-- nombreComercial: string (nullable = true)\n",
      " |-- direccion: string (nullable = true)\n",
      " |-- estado: string (nullable = true)\n",
      " |-- municipio: string (nullable = true)\n",
      " |-- latitud: string (nullable = true)\n",
      " |-- longitud: string (nullable = true)"
     ]
    }
   ],
   "source": [
    "prueba.printSchema()"
   ]
  },
  {
   "cell_type": "code",
   "execution_count": 42,
   "id": "8876f98f",
   "metadata": {},
   "outputs": [
    {
     "data": {
      "application/vnd.jupyter.widget-view+json": {
       "model_id": "",
       "version_major": 2,
       "version_minor": 0
      },
      "text/plain": [
       "FloatProgress(value=0.0, bar_style='info', description='Progress:', layout=Layout(height='25px', width='50%'),…"
      ]
     },
     "metadata": {},
     "output_type": "display_data"
    }
   ],
   "source": [
    "precios = prueba.select(\"precio\")"
   ]
  },
  {
   "cell_type": "code",
   "execution_count": 50,
   "id": "2bc61c1b",
   "metadata": {},
   "outputs": [
    {
     "data": {
      "application/vnd.jupyter.widget-view+json": {
       "model_id": "",
       "version_major": 2,
       "version_minor": 0
      },
      "text/plain": [
       "FloatProgress(value=0.0, bar_style='info', description='Progress:', layout=Layout(height='25px', width='50%'),…"
      ]
     },
     "metadata": {},
     "output_type": "display_data"
    }
   ],
   "source": [
    "precios = precios.sort(col(\"precio\").desc())"
   ]
  },
  {
   "cell_type": "code",
   "execution_count": 51,
   "id": "ffff28da",
   "metadata": {},
   "outputs": [
    {
     "data": {
      "application/vnd.jupyter.widget-view+json": {
       "model_id": "",
       "version_major": 2,
       "version_minor": 0
      },
      "text/plain": [
       "FloatProgress(value=0.0, bar_style='info', description='Progress:', layout=Layout(height='25px', width='50%'),…"
      ]
     },
     "metadata": {},
     "output_type": "display_data"
    },
    {
     "name": "stdout",
     "output_type": "stream",
     "text": [
      "+------+\n",
      "|precio|\n",
      "+------+\n",
      "|94248 |\n",
      "|92856 |\n",
      "|92856 |\n",
      "|92856 |\n",
      "|92856 |\n",
      "|84181 |\n",
      "|84181 |\n",
      "|77141 |\n",
      "|77141 |\n",
      "|77141 |\n",
      "+------+\n",
      "only showing top 10 rows"
     ]
    }
   ],
   "source": []
  },
  {
   "cell_type": "code",
   "execution_count": 13,
   "id": "a8dee0e2",
   "metadata": {},
   "outputs": [
    {
     "data": {
      "application/vnd.jupyter.widget-view+json": {
       "model_id": "",
       "version_major": 2,
       "version_minor": 0
      },
      "text/plain": [
       "FloatProgress(value=0.0, bar_style='info', description='Progress:', layout=Layout(height='25px', width='50%'),…"
      ]
     },
     "metadata": {},
     "output_type": "display_data"
    }
   ],
   "source": [
    "(prueba\n",
    "     .write\n",
    "     .partitionBy('catalogo')\n",
    "     .mode('overwrite')\n",
    "     .parquet(\"s3://itam-analytics-abcd/preprocessing/unified_parquet\")\n",
    ")"
   ]
  },
  {
   "cell_type": "markdown",
   "id": "7fce164a",
   "metadata": {},
   "source": [
    "Creemos un resumen global de la distancia promedio, el costo por milla promedio y el costo promedio."
   ]
  },
  {
   "cell_type": "code",
   "execution_count": 10,
   "id": "13b94fbd",
   "metadata": {
    "scrolled": true
   },
   "outputs": [
    {
     "data": {
      "application/vnd.jupyter.widget-view+json": {
       "model_id": "",
       "version_major": 2,
       "version_minor": 0
      },
      "text/plain": [
       "FloatProgress(value=0.0, bar_style='info', description='Progress:', layout=Layout(height='25px', width='50%'),…"
      ]
     },
     "metadata": {},
     "output_type": "display_data"
    },
    {
     "name": "stdout",
     "output_type": "stream",
     "text": [
      "+--------+-----------------+--------+\n",
      "|avg_dist|avg_cost_per_mile|avg_cost|\n",
      "+--------+-----------------+--------+\n",
      "|    7.59|            12.71|   21.62|\n",
      "+--------+-----------------+--------+"
     ]
    }
   ],
   "source": [
    "(\n",
    "    tbl_union\n",
    "        .select(\n",
    "            F.round(F.avg('trip_distance'),2).alias('avg_dist'),\n",
    "            F.round(F.avg(col('total_amount')/col('trip_distance')),2).alias('avg_cost_per_mile'),\n",
    "            F.round(F.avg('total_amount'),2).alias('avg_cost'))\n",
    "        \n",
    ").show()"
   ]
  },
  {
   "cell_type": "markdown",
   "id": "45406aa4",
   "metadata": {},
   "source": [
    "Repitamos la misma operación pero ahora agrupando por tipo de taxi."
   ]
  },
  {
   "cell_type": "code",
   "execution_count": 11,
   "id": "b39b7890",
   "metadata": {},
   "outputs": [
    {
     "data": {
      "application/vnd.jupyter.widget-view+json": {
       "model_id": "",
       "version_major": 2,
       "version_minor": 0
      },
      "text/plain": [
       "FloatProgress(value=0.0, bar_style='info', description='Progress:', layout=Layout(height='25px', width='50%'),…"
      ]
     },
     "metadata": {},
     "output_type": "display_data"
    },
    {
     "name": "stdout",
     "output_type": "stream",
     "text": [
      "+------+--------+-----------------+--------+\n",
      "|  type|avg_dist|avg_cost_per_mile|avg_cost|\n",
      "+------+--------+-----------------+--------+\n",
      "|yellow|    5.96|            12.68|   21.67|\n",
      "| green|   84.45|            14.51|   19.32|\n",
      "+------+--------+-----------------+--------+"
     ]
    }
   ],
   "source": [
    "(tbl_union\n",
    "     .groupBy('type')\n",
    "     .agg(\n",
    "         F.round(F.avg('trip_distance'),2).alias('avg_dist'),\n",
    "         F.round(F.avg(col('total_amount')/col('trip_distance')),2).alias('avg_cost_per_mile'),\n",
    "         F.round(F.avg('total_amount'),2).alias('avg_cost')) \n",
    ").show()"
   ]
  },
  {
   "cell_type": "markdown",
   "id": "78e17903",
   "metadata": {},
   "source": [
    "Ahora hagamos algo nuevo, imagina que estos parquets queremos convertirlos en un directorio particionado para poder consultarlo en Athena de manera eficiente.\n",
    "\n",
    "Los datos los vamos a consultar por tipo, año y mes. Eso quiere decir que hay que guardar este dataframe particionado por estas variables."
   ]
  },
  {
   "cell_type": "code",
   "execution_count": 12,
   "id": "713bb5b4",
   "metadata": {},
   "outputs": [
    {
     "data": {
      "application/vnd.jupyter.widget-view+json": {
       "model_id": "",
       "version_major": 2,
       "version_minor": 0
      },
      "text/plain": [
       "FloatProgress(value=0.0, bar_style='info', description='Progress:', layout=Layout(height='25px', width='50%'),…"
      ]
     },
     "metadata": {},
     "output_type": "display_data"
    }
   ],
   "source": [
    "tbl_yellow_taxi_prime = (\n",
    "    tbl_yellow_taxi\n",
    "     .withColumn(\"type\", lit(\"yellow\"))\n",
    "     .withColumn(\"year\", F.year('tpep_pickup_datetime'))\n",
    "     .withColumn(\"month\", F.month('tpep_pickup_datetime'))\n",
    "     .select(\n",
    "         'type', \n",
    "         'year', \n",
    "         'month', \n",
    "         'VendorID', \n",
    "         col('tpep_pickup_datetime').alias('pickup_datetime'), \n",
    "         'passenger_count', \n",
    "         'trip_distance', \n",
    "         'PULocationID', \n",
    "         'DOLocationID', \n",
    "         'fare_amount',\n",
    "         'extra',\n",
    "         'mta_tax',\n",
    "         'tip_amount',\n",
    "         'tolls_amount',\n",
    "         'improvement_surcharge',\n",
    "         'total_amount',\n",
    "         'payment_type',\n",
    "         'congestion_surcharge')\n",
    ")\n",
    "\n",
    "tbl_green_taxi_prime = (tbl_green_taxi\n",
    "     .withColumn(\"type\", lit(\"green\"))\n",
    "     .withColumn(\"year\", F.year('lpep_pickup_datetime'))\n",
    "     .withColumn(\"month\", F.month('lpep_pickup_datetime'))\n",
    "     .select(\n",
    "         'type', \n",
    "         'year', \n",
    "         'month', \n",
    "         'VendorID', \n",
    "         col('lpep_pickup_datetime').alias('pickup_datetime'), \n",
    "         'passenger_count', \n",
    "         'trip_distance', \n",
    "         'PULocationID', \n",
    "         'DOLocationID', \n",
    "         'fare_amount',\n",
    "         'extra',\n",
    "         'mta_tax',\n",
    "         'tip_amount',\n",
    "         'tolls_amount',\n",
    "         'improvement_surcharge',\n",
    "         'total_amount',\n",
    "         'payment_type',\n",
    "         'congestion_surcharge')\n",
    ")\n",
    "\n",
    "tbl_taxi_prime_union = tbl_yellow_taxi_prime.union(tbl_green_taxi_prime)"
   ]
  },
  {
   "cell_type": "markdown",
   "id": "5d8f5b1d",
   "metadata": {},
   "source": [
    "Primero vamos a guardar el archivo como un solo CSV. Para eso usamos coalesce, para decirle a Spark que queremos juntar todas las particiones que están en los nodos en una sola partición. Ojo esta operación es costosa en computo."
   ]
  },
  {
   "cell_type": "markdown",
   "id": "e0c09d19",
   "metadata": {},
   "source": [
    "Por ejemplo, el DataFrame original que cargamos tiene el siguiente número de particiones."
   ]
  },
  {
   "cell_type": "code",
   "execution_count": 13,
   "id": "361431f1",
   "metadata": {},
   "outputs": [
    {
     "data": {
      "application/vnd.jupyter.widget-view+json": {
       "model_id": "",
       "version_major": 2,
       "version_minor": 0
      },
      "text/plain": [
       "FloatProgress(value=0.0, bar_style='info', description='Progress:', layout=Layout(height='25px', width='50%'),…"
      ]
     },
     "metadata": {},
     "output_type": "display_data"
    },
    {
     "name": "stdout",
     "output_type": "stream",
     "text": [
      "<bound method RDD.getNumPartitions of MapPartitionsRDD[59] at javaToPython at NativeMethodAccessorImpl.java:0>"
     ]
    }
   ],
   "source": [
    "tbl_taxi_prime_union.rdd.getNumPartitions"
   ]
  },
  {
   "cell_type": "markdown",
   "id": "47de4f5e",
   "metadata": {},
   "source": [
    "Ahora reduzcamoslo a 1 partición."
   ]
  },
  {
   "cell_type": "code",
   "execution_count": 15,
   "id": "2403ce64",
   "metadata": {},
   "outputs": [
    {
     "data": {
      "application/vnd.jupyter.widget-view+json": {
       "model_id": "",
       "version_major": 2,
       "version_minor": 0
      },
      "text/plain": [
       "FloatProgress(value=0.0, bar_style='info', description='Progress:', layout=Layout(height='25px', width='50%'),…"
      ]
     },
     "metadata": {},
     "output_type": "display_data"
    }
   ],
   "source": [
    "(tbl_taxi_prime_union\n",
    "    .filter(col('year') == 2022)\n",
    "    .coalesce(1)\n",
    "     .write\n",
    "     .mode('overwrite')\n",
    "     .csv(\"s3://itam-analytics-brandon/taxi_prep_csv\")\n",
    ")"
   ]
  },
  {
   "cell_type": "markdown",
   "id": "fe984cd6",
   "metadata": {},
   "source": [
    "Segundo vamos a guardar el archivo particionado por type, year y month como parquet."
   ]
  },
  {
   "cell_type": "code",
   "execution_count": 17,
   "id": "d1fbbb4f",
   "metadata": {},
   "outputs": [
    {
     "data": {
      "application/vnd.jupyter.widget-view+json": {
       "model_id": "",
       "version_major": 2,
       "version_minor": 0
      },
      "text/plain": [
       "FloatProgress(value=0.0, bar_style='info', description='Progress:', layout=Layout(height='25px', width='50%'),…"
      ]
     },
     "metadata": {},
     "output_type": "display_data"
    }
   ],
   "source": [
    "(tbl_taxi_prime_union\n",
    "     .filter(col('year') == 2022)\n",
    "     .write\n",
    "     .partitionBy('type', 'year', 'month')\n",
    "     .mode('overwrite')\n",
    "     .parquet(\"s3://itam-analytics-brandon/taxi_prep_parquet\")\n",
    ")"
   ]
  },
  {
   "cell_type": "markdown",
   "id": "59ca221b",
   "metadata": {},
   "source": [
    "Observa que el path indica que estamos creando carpetas diferentes para que cuando queramos consultar con Athena, cada carpeta sea una tabla diferente. La idea es que observes la diferencia en consultar ambas tablas en Athena, para que \n",
    "veas el desempeño en tiempo y costo."
   ]
  }
 ],
 "metadata": {
  "kernelspec": {
   "display_name": "PySpark",
   "language": "python",
   "name": "pysparkkernel"
  },
  "language_info": {
   "codemirror_mode": {
    "name": "python",
    "version": 3
   },
   "file_extension": ".py",
   "mimetype": "text/x-python",
   "name": "pyspark",
   "pygments_lexer": "python3"
  }
 },
 "nbformat": 4,
 "nbformat_minor": 5
}
