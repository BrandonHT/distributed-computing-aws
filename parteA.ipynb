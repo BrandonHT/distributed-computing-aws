{
 "cells": [
  {
   "cell_type": "markdown",
   "id": "8eb89f2f",
   "metadata": {},
   "source": [
    "# Demo Spark en Cluster\n",
    "\n",
    "Este demo utiliza los siguientes datos [New York City Taxi and Limousine Commission (TLC) Trip Record Data](https://aws.amazon.com/marketplace/pp/prodview-okyonroqg5b2u?sr=0-1&ref_=beagle&applicationId=AWSMPContessa#usage)"
   ]
  },
  {
   "cell_type": "code",
   "execution_count": 1,
   "id": "81eae6e5",
   "metadata": {},
   "outputs": [
    {
     "data": {
      "text/html": [
       "<style>\n",
       "div.output_area pre {\n",
       "    white-space: pre;\n",
       "}\n",
       "</style>\n"
      ],
      "text/plain": [
       "<IPython.core.display.HTML object>"
      ]
     },
     "metadata": {},
     "output_type": "display_data"
    }
   ],
   "source": [
    "%%html\n",
    "<style>\n",
    "div.output_area pre {\n",
    "    white-space: pre;\n",
    "}\n",
    "</style>"
   ]
  },
  {
   "cell_type": "code",
   "execution_count": 53,
   "id": "236a8c5a",
   "metadata": {
    "scrolled": true
   },
   "outputs": [
    {
     "data": {
      "application/vnd.jupyter.widget-view+json": {
       "model_id": "",
       "version_major": 2,
       "version_minor": 0
      },
      "text/plain": [
       "FloatProgress(value=0.0, bar_style='info', description='Progress:', layout=Layout(height='25px', width='50%'),…"
      ]
     },
     "metadata": {},
     "output_type": "display_data"
    }
   ],
   "source": [
    "# Importar librerías\n",
    "from pyspark.sql import SparkSession\n",
    "\n",
    "# Importar funciones únicas\n",
    "from pyspark.sql.functions import lit, col, desc, asc, countDistinct\n",
    "from pyspark.sql.types import IntegerType,BooleanType,DateType\n",
    "\n",
    "# Importar funciones con un alias, que pudieran \n",
    "# tener conflicto con las librerías base de Python, \n",
    "# como sum, avg, round, ...\n",
    "import pyspark.sql.functions as F"
   ]
  },
  {
   "cell_type": "code",
   "execution_count": 3,
   "id": "d468deb9",
   "metadata": {},
   "outputs": [
    {
     "data": {
      "application/vnd.jupyter.widget-view+json": {
       "model_id": "",
       "version_major": 2,
       "version_minor": 0
      },
      "text/plain": [
       "FloatProgress(value=0.0, bar_style='info', description='Progress:', layout=Layout(height='25px', width='50%'),…"
      ]
     },
     "metadata": {},
     "output_type": "display_data"
    }
   ],
   "source": [
    "spark = SparkSession.builder.appName('Productos electronicos').getOrCreate()"
   ]
  },
  {
   "cell_type": "code",
   "execution_count": 4,
   "id": "2589df5a",
   "metadata": {},
   "outputs": [
    {
     "data": {
      "application/vnd.jupyter.widget-view+json": {
       "model_id": "",
       "version_major": 2,
       "version_minor": 0
      },
      "text/plain": [
       "FloatProgress(value=0.0, bar_style='info', description='Progress:', layout=Layout(height='25px', width='50%'),…"
      ]
     },
     "metadata": {},
     "output_type": "display_data"
    }
   ],
   "source": [
    "qqp = spark.read.option(\"header\", False).option(\"delimiter\", \"|\").csv(\"s3://itam-analytics-abcd/raw/*\")"
   ]
  },
  {
   "cell_type": "code",
   "execution_count": 5,
   "id": "fc59f7de",
   "metadata": {},
   "outputs": [
    {
     "data": {
      "application/vnd.jupyter.widget-view+json": {
       "model_id": "",
       "version_major": 2,
       "version_minor": 0
      },
      "text/plain": [
       "FloatProgress(value=0.0, bar_style='info', description='Progress:', layout=Layout(height='25px', width='50%'),…"
      ]
     },
     "metadata": {},
     "output_type": "display_data"
    },
    {
     "name": "stdout",
     "output_type": "stream",
     "text": [
      "+-------------------+----------------------------------------------------------------------------+------------------+---------------------+-----------------+--------+----------+---------+----------------------+---------------------------------+------------------------------------------------------------------+--------------+--------------+---------+-----------+\n",
      "|_c0                |_c1                                                                         |_c2               |_c3                  |_c4              |_c5     |_c6       |_c7      |_c8                   |_c9                              |_c10                                                              |_c11          |_c12          |_c13     |_c14       |\n",
      "+-------------------+----------------------------------------------------------------------------+------------------+---------------------+-----------------+--------+----------+---------+----------------------+---------------------------------+------------------------------------------------------------------+--------------+--------------+---------+-----------+\n",
      "|BATIDORAS          |59765. DE INMERSION. 2 VELOCIDADES. SIN TAZON                               |HAMILTON BEACH    |APARATOS ELECTRICOS  |ELECTRODOMESTICOS|899.00  |2018-07-09|LIVERPOOL|TIENDA DEPARTAMENTALES|LIVERPOOL SUCURSAL AGUASCALIENTES|ZACATECAS NTE. 851, ESQ. ALTARIA, COL. TROJES DE ALONSO, CP. 20200|AGUASCALIENTES|AGUASCALIENTES|21.924271|-102.289721|\n",
      "|BATIDORAS          |62647. MANUAL. 6 VELOCIDADES. SIN TAZ'ON                                    |HAMILTON BEACH    |APARATOS ELECTRICOS  |ELECTRODOMESTICOS|799.00  |2018-07-09|LIVERPOOL|TIENDA DEPARTAMENTALES|LIVERPOOL SUCURSAL AGUASCALIENTES|ZACATECAS NTE. 851, ESQ. ALTARIA, COL. TROJES DE ALONSO, CP. 20200|AGUASCALIENTES|AGUASCALIENTES|21.924271|-102.289721|\n",
      "|BATIDORAS          |2532 'O 2532-013. MANUAL. 6 VELOCIDADES. SIN TAZON                          |OSTER             |APARATOS ELECTRICOS  |ELECTRODOMESTICOS|699.00  |2018-07-09|LIVERPOOL|TIENDA DEPARTAMENTALES|LIVERPOOL SUCURSAL AGUASCALIENTES|ZACATECAS NTE. 851, ESQ. ALTARIA, COL. TROJES DE ALONSO, CP. 20200|AGUASCALIENTES|AGUASCALIENTES|21.924271|-102.289721|\n",
      "|BATIDORAS          |FPSTHB2610W O FPSTHB2610W-013. DE INMERSI'ON. 1 VELOCIDAD. SIN TAZ'ON       |OSTER             |APARATOS ELECTRICOS  |ELECTRODOMESTICOS|569.00  |2018-07-09|LIVERPOOL|TIENDA DEPARTAMENTALES|LIVERPOOL SUCURSAL AGUASCALIENTES|ZACATECAS NTE. 851, ESQ. ALTARIA, COL. TROJES DE ALONSO, CP. 20200|AGUASCALIENTES|AGUASCALIENTES|21.924271|-102.289721|\n",
      "|BATIDORAS          |FPSTHB2615R O FPSTHB2615R-013. DE INMERSI'ON. VELOCIDAD VARIABLE. SIN TAZ'ON|OSTER             |APARATOS ELECTRICOS  |ELECTRODOMESTICOS|949.00  |2018-07-09|LIVERPOOL|TIENDA DEPARTAMENTALES|LIVERPOOL SUCURSAL AGUASCALIENTES|ZACATECAS NTE. 851, ESQ. ALTARIA, COL. TROJES DE ALONSO, CP. 20200|AGUASCALIENTES|AGUASCALIENTES|21.924271|-102.289721|\n",
      "|BATIDORAS          |FPSTHS2611 'O FPSTHS2611-013. MANUAL Y PEDESTAL. 6 VELOCIDADES. TAZON VIDRIO|OSTER             |APARATOS ELECTRICOS  |ELECTRODOMESTICOS|1149.00 |2018-07-09|LIVERPOOL|TIENDA DEPARTAMENTALES|LIVERPOOL SUCURSAL AGUASCALIENTES|ZACATECAS NTE. 851, ESQ. ALTARIA, COL. TROJES DE ALONSO, CP. 20200|AGUASCALIENTES|AGUASCALIENTES|21.924271|-102.289721|\n",
      "|BOCINAS PORT'ATILES|FH 4. USB Y BLUETOOTH. POTENCIA 80 W RMS                                    |LG                |APARATOS ELECTRONICOS|ELECTRODOMESTICOS|3779.00 |2018-07-09|LIVERPOOL|TIENDA DEPARTAMENTALES|LIVERPOOL SUCURSAL AGUASCALIENTES|ZACATECAS NTE. 851, ESQ. ALTARIA, COL. TROJES DE ALONSO, CP. 20200|AGUASCALIENTES|AGUASCALIENTES|21.924271|-102.289721|\n",
      "|BOCINAS PORT'ATILES|MHC-V11. CD'S 1, MP3, DVD, USB Y BLUETOOTH. POTENCIA 470 W RMS              |SONY              |APARATOS ELECTRONICOS|ELECTRODOMESTICOS|3999.00 |2018-07-09|LIVERPOOL|TIENDA DEPARTAMENTALES|LIVERPOOL SUCURSAL AGUASCALIENTES|ZACATECAS NTE. 851, ESQ. ALTARIA, COL. TROJES DE ALONSO, CP. 20200|AGUASCALIENTES|AGUASCALIENTES|21.924271|-102.289721|\n",
      "|CAFETERAS          |49615. CAPACIDAD 12 TAZAS                                                   |HAMILTON BEACH    |APARATOS ELECTRICOS  |ELECTRODOMESTICOS|789.00  |2018-07-09|LIVERPOOL|TIENDA DEPARTAMENTALES|LIVERPOOL SUCURSAL AGUASCALIENTES|ZACATECAS NTE. 851, ESQ. ALTARIA, COL. TROJES DE ALONSO, CP. 20200|AGUASCALIENTES|AGUASCALIENTES|21.924271|-102.289721|\n",
      "|CAFETERAS          |BVSTDCMVX23 'O BVSTDCMVX23-013. CAPACIDAD 12 TAZAS                          |OSTER             |APARATOS ELECTRICOS  |ELECTRODOMESTICOS|1049.00 |2018-07-09|LIVERPOOL|TIENDA DEPARTAMENTALES|LIVERPOOL SUCURSAL AGUASCALIENTES|ZACATECAS NTE. 851, ESQ. ALTARIA, COL. TROJES DE ALONSO, CP. 20200|AGUASCALIENTES|AGUASCALIENTES|21.924271|-102.289721|\n",
      "|CAMARAS DIGITALES  |EOS 77D. MEGAPIXELES 24.2. LENTE ZOOM 18-135 MM                             |CANON             |APARATOS ELECTRONICOS|ELECTRODOMESTICOS|29834.00|2018-07-09|LIVERPOOL|TIENDA DEPARTAMENTALES|LIVERPOOL SUCURSAL AGUASCALIENTES|ZACATECAS NTE. 851, ESQ. ALTARIA, COL. TROJES DE ALONSO, CP. 20200|AGUASCALIENTES|AGUASCALIENTES|21.924271|-102.289721|\n",
      "|CAMARAS DIGITALES  |EOS 80D. MEGAPIXELES 24.2. LENTE ZOOM 18-135 MM                             |CANON             |APARATOS ELECTRONICOS|ELECTRODOMESTICOS|35959.00|2018-07-09|LIVERPOOL|TIENDA DEPARTAMENTALES|LIVERPOOL SUCURSAL AGUASCALIENTES|ZACATECAS NTE. 851, ESQ. ALTARIA, COL. TROJES DE ALONSO, CP. 20200|AGUASCALIENTES|AGUASCALIENTES|21.924271|-102.289721|\n",
      "|CAMARAS DIGITALES  |EOS REBEL SL2. MEGA PIXELES 24.2. LENTE ZOOM 18-55 MM                       |CANON             |APARATOS ELECTRONICOS|ELECTRODOMESTICOS|16829.00|2018-07-09|LIVERPOOL|TIENDA DEPARTAMENTALES|LIVERPOOL SUCURSAL AGUASCALIENTES|ZACATECAS NTE. 851, ESQ. ALTARIA, COL. TROJES DE ALONSO, CP. 20200|AGUASCALIENTES|AGUASCALIENTES|21.924271|-102.289721|\n",
      "|CAMARAS DIGITALES  |EOS REBEL T6. MEGAPIXELES 18. LENTE ZOOM 18-55 MM                           |CANON             |APARATOS ELECTRONICOS|ELECTRODOMESTICOS|9944.00 |2018-07-09|LIVERPOOL|TIENDA DEPARTAMENTALES|LIVERPOOL SUCURSAL AGUASCALIENTES|ZACATECAS NTE. 851, ESQ. ALTARIA, COL. TROJES DE ALONSO, CP. 20200|AGUASCALIENTES|AGUASCALIENTES|21.924271|-102.289721|\n",
      "|CAMARAS DIGITALES  |INSTAX MINI 9. LENTE ZOOM 60 MM (FIJO)                                      |FUJIFILM. FINE PIX|APARATOS ELECTRONICOS|ELECTRODOMESTICOS|2069.00 |2018-07-09|LIVERPOOL|TIENDA DEPARTAMENTALES|LIVERPOOL SUCURSAL AGUASCALIENTES|ZACATECAS NTE. 851, ESQ. ALTARIA, COL. TROJES DE ALONSO, CP. 20200|AGUASCALIENTES|AGUASCALIENTES|21.924271|-102.289721|\n",
      "|CAMARAS DIGITALES  |XP 120. MEGA PIXELES 16.4. ZOOM 'OPTICO 5X                                  |FUJIFILM. FINE PIX|APARATOS ELECTRONICOS|ELECTRODOMESTICOS|5399.00 |2018-07-09|LIVERPOOL|TIENDA DEPARTAMENTALES|LIVERPOOL SUCURSAL AGUASCALIENTES|ZACATECAS NTE. 851, ESQ. ALTARIA, COL. TROJES DE ALONSO, CP. 20200|AGUASCALIENTES|AGUASCALIENTES|21.924271|-102.289721|\n",
      "|CAMARAS DIGITALES  |D3400. MEGA PIXELES 24.2. LENTE ZOOM 18-55 MM                               |NIKON             |APARATOS ELECTRONICOS|ELECTRODOMESTICOS|13499.00|2018-07-09|LIVERPOOL|TIENDA DEPARTAMENTALES|LIVERPOOL SUCURSAL AGUASCALIENTES|ZACATECAS NTE. 851, ESQ. ALTARIA, COL. TROJES DE ALONSO, CP. 20200|AGUASCALIENTES|AGUASCALIENTES|21.924271|-102.289721|\n",
      "|CAMARAS DIGITALES  |D7200. MEGAPIXELES 24.2. LENTE ZOOM 18-140 MM                               |NIKON             |APARATOS ELECTRONICOS|ELECTRODOMESTICOS|34919.00|2018-07-09|LIVERPOOL|TIENDA DEPARTAMENTALES|LIVERPOOL SUCURSAL AGUASCALIENTES|ZACATECAS NTE. 851, ESQ. ALTARIA, COL. TROJES DE ALONSO, CP. 20200|AGUASCALIENTES|AGUASCALIENTES|21.924271|-102.289721|\n",
      "|CAMARAS DIGITALES  |B700. MEGA PIXELES 20.3. ZOOM 'OPTICO 60X                                   |NIKON. COOLPIX    |APARATOS ELECTRONICOS|ELECTRODOMESTICOS|12419.00|2018-07-09|LIVERPOOL|TIENDA DEPARTAMENTALES|LIVERPOOL SUCURSAL AGUASCALIENTES|ZACATECAS NTE. 851, ESQ. ALTARIA, COL. TROJES DE ALONSO, CP. 20200|AGUASCALIENTES|AGUASCALIENTES|21.924271|-102.289721|\n",
      "|CAMARAS DIGITALES  |P900. MEGA PIXELES 16. ZOOM 'OPTICO 83X                                     |NIKON. COOLPIX    |APARATOS ELECTRONICOS|ELECTRODOMESTICOS|15209.00|2018-07-09|LIVERPOOL|TIENDA DEPARTAMENTALES|LIVERPOOL SUCURSAL AGUASCALIENTES|ZACATECAS NTE. 851, ESQ. ALTARIA, COL. TROJES DE ALONSO, CP. 20200|AGUASCALIENTES|AGUASCALIENTES|21.924271|-102.289721|\n",
      "+-------------------+----------------------------------------------------------------------------+------------------+---------------------+-----------------+--------+----------+---------+----------------------+---------------------------------+------------------------------------------------------------------+--------------+--------------+---------+-----------+\n",
      "only showing top 20 rows"
     ]
    }
   ],
   "source": [
    "qqp.show(20, False)"
   ]
  },
  {
   "cell_type": "code",
   "execution_count": 6,
   "id": "9032d15b",
   "metadata": {},
   "outputs": [
    {
     "data": {
      "application/vnd.jupyter.widget-view+json": {
       "model_id": "",
       "version_major": 2,
       "version_minor": 0
      },
      "text/plain": [
       "FloatProgress(value=0.0, bar_style='info', description='Progress:', layout=Layout(height='25px', width='50%'),…"
      ]
     },
     "metadata": {},
     "output_type": "display_data"
    },
    {
     "name": "stdout",
     "output_type": "stream",
     "text": [
      "68508948"
     ]
    }
   ],
   "source": [
    "qqp.count()"
   ]
  },
  {
   "cell_type": "code",
   "execution_count": 7,
   "id": "cb1e6491",
   "metadata": {},
   "outputs": [
    {
     "data": {
      "application/vnd.jupyter.widget-view+json": {
       "model_id": "",
       "version_major": 2,
       "version_minor": 0
      },
      "text/plain": [
       "FloatProgress(value=0.0, bar_style='info', description='Progress:', layout=Layout(height='25px', width='50%'),…"
      ]
     },
     "metadata": {},
     "output_type": "display_data"
    }
   ],
   "source": [
    "qqp = qqp.withColumnRenamed(\"_c0\", \"producto\")\\\n",
    "       .withColumnRenamed(\"_c1\", \"presentacion\")\\\n",
    "       .withColumnRenamed(\"_c2\", \"marca\")\\\n",
    "       .withColumnRenamed(\"_c3\", \"categoria\")\\\n",
    "       .withColumnRenamed(\"_c4\", \"catalogo\")\\\n",
    "       .withColumnRenamed(\"_c5\", \"precio\")\\\n",
    "       .withColumnRenamed(\"_c6\", \"fechaRegistro\")\\\n",
    "       .withColumnRenamed(\"_c7\", \"cadenaComercial\")\\\n",
    "       .withColumnRenamed(\"_c8\", \"giro\")\\\n",
    "       .withColumnRenamed(\"_c9\", \"nombreComercial\")\\\n",
    "       .withColumnRenamed(\"_c10\", \"direccion\")\\\n",
    "       .withColumnRenamed(\"_c11\", \"estado\")\\\n",
    "       .withColumnRenamed(\"_c12\", \"municipio\")\\\n",
    "       .withColumnRenamed(\"_c13\", \"latitud\")\\\n",
    "       .withColumnRenamed(\"_c14\", \"longitud\")\\"
   ]
  },
  {
   "cell_type": "code",
   "execution_count": 8,
   "id": "c79fcc1c",
   "metadata": {},
   "outputs": [
    {
     "data": {
      "application/vnd.jupyter.widget-view+json": {
       "model_id": "",
       "version_major": 2,
       "version_minor": 0
      },
      "text/plain": [
       "FloatProgress(value=0.0, bar_style='info', description='Progress:', layout=Layout(height='25px', width='50%'),…"
      ]
     },
     "metadata": {},
     "output_type": "display_data"
    },
    {
     "name": "stdout",
     "output_type": "stream",
     "text": [
      "+---------+----------------------------------------------------------------------------+--------------+-------------------+-----------------+------+-------------+---------------+----------------------+---------------------------------+------------------------------------------------------------------+--------------+--------------+---------+-----------+\n",
      "|producto |presentacion                                                                |marca         |categoria          |catalogo         |precio|fechaRegistro|cadenaComercial|giro                  |nombreComercial                  |direccion                                                         |estado        |municipio     |latitud  |longitud   |\n",
      "+---------+----------------------------------------------------------------------------+--------------+-------------------+-----------------+------+-------------+---------------+----------------------+---------------------------------+------------------------------------------------------------------+--------------+--------------+---------+-----------+\n",
      "|BATIDORAS|59765. DE INMERSION. 2 VELOCIDADES. SIN TAZON                               |HAMILTON BEACH|APARATOS ELECTRICOS|ELECTRODOMESTICOS|899.00|2018-07-09   |LIVERPOOL      |TIENDA DEPARTAMENTALES|LIVERPOOL SUCURSAL AGUASCALIENTES|ZACATECAS NTE. 851, ESQ. ALTARIA, COL. TROJES DE ALONSO, CP. 20200|AGUASCALIENTES|AGUASCALIENTES|21.924271|-102.289721|\n",
      "|BATIDORAS|62647. MANUAL. 6 VELOCIDADES. SIN TAZ'ON                                    |HAMILTON BEACH|APARATOS ELECTRICOS|ELECTRODOMESTICOS|799.00|2018-07-09   |LIVERPOOL      |TIENDA DEPARTAMENTALES|LIVERPOOL SUCURSAL AGUASCALIENTES|ZACATECAS NTE. 851, ESQ. ALTARIA, COL. TROJES DE ALONSO, CP. 20200|AGUASCALIENTES|AGUASCALIENTES|21.924271|-102.289721|\n",
      "|BATIDORAS|2532 'O 2532-013. MANUAL. 6 VELOCIDADES. SIN TAZON                          |OSTER         |APARATOS ELECTRICOS|ELECTRODOMESTICOS|699.00|2018-07-09   |LIVERPOOL      |TIENDA DEPARTAMENTALES|LIVERPOOL SUCURSAL AGUASCALIENTES|ZACATECAS NTE. 851, ESQ. ALTARIA, COL. TROJES DE ALONSO, CP. 20200|AGUASCALIENTES|AGUASCALIENTES|21.924271|-102.289721|\n",
      "|BATIDORAS|FPSTHB2610W O FPSTHB2610W-013. DE INMERSI'ON. 1 VELOCIDAD. SIN TAZ'ON       |OSTER         |APARATOS ELECTRICOS|ELECTRODOMESTICOS|569.00|2018-07-09   |LIVERPOOL      |TIENDA DEPARTAMENTALES|LIVERPOOL SUCURSAL AGUASCALIENTES|ZACATECAS NTE. 851, ESQ. ALTARIA, COL. TROJES DE ALONSO, CP. 20200|AGUASCALIENTES|AGUASCALIENTES|21.924271|-102.289721|\n",
      "|BATIDORAS|FPSTHB2615R O FPSTHB2615R-013. DE INMERSI'ON. VELOCIDAD VARIABLE. SIN TAZ'ON|OSTER         |APARATOS ELECTRICOS|ELECTRODOMESTICOS|949.00|2018-07-09   |LIVERPOOL      |TIENDA DEPARTAMENTALES|LIVERPOOL SUCURSAL AGUASCALIENTES|ZACATECAS NTE. 851, ESQ. ALTARIA, COL. TROJES DE ALONSO, CP. 20200|AGUASCALIENTES|AGUASCALIENTES|21.924271|-102.289721|\n",
      "+---------+----------------------------------------------------------------------------+--------------+-------------------+-----------------+------+-------------+---------------+----------------------+---------------------------------+------------------------------------------------------------------+--------------+--------------+---------+-----------+\n",
      "only showing top 5 rows"
     ]
    }
   ],
   "source": [
    "qqp.show(5,False)"
   ]
  },
  {
   "cell_type": "code",
   "execution_count": 9,
   "id": "9d98fb87",
   "metadata": {},
   "outputs": [
    {
     "data": {
      "application/vnd.jupyter.widget-view+json": {
       "model_id": "",
       "version_major": 2,
       "version_minor": 0
      },
      "text/plain": [
       "FloatProgress(value=0.0, bar_style='info', description='Progress:', layout=Layout(height='25px', width='50%'),…"
      ]
     },
     "metadata": {},
     "output_type": "display_data"
    }
   ],
   "source": [
    "qqp = qqp.withColumn(\"precio\",col(\"precio\").cast(IntegerType()))"
   ]
  },
  {
   "cell_type": "code",
   "execution_count": 10,
   "id": "d64a22c2",
   "metadata": {},
   "outputs": [
    {
     "data": {
      "application/vnd.jupyter.widget-view+json": {
       "model_id": "",
       "version_major": 2,
       "version_minor": 0
      },
      "text/plain": [
       "FloatProgress(value=0.0, bar_style='info', description='Progress:', layout=Layout(height='25px', width='50%'),…"
      ]
     },
     "metadata": {},
     "output_type": "display_data"
    },
    {
     "name": "stdout",
     "output_type": "stream",
     "text": [
      "root\n",
      " |-- producto: string (nullable = true)\n",
      " |-- presentacion: string (nullable = true)\n",
      " |-- marca: string (nullable = true)\n",
      " |-- categoria: string (nullable = true)\n",
      " |-- catalogo: string (nullable = true)\n",
      " |-- precio: integer (nullable = true)\n",
      " |-- fechaRegistro: string (nullable = true)\n",
      " |-- cadenaComercial: string (nullable = true)\n",
      " |-- giro: string (nullable = true)\n",
      " |-- nombreComercial: string (nullable = true)\n",
      " |-- direccion: string (nullable = true)\n",
      " |-- estado: string (nullable = true)\n",
      " |-- municipio: string (nullable = true)\n",
      " |-- latitud: string (nullable = true)\n",
      " |-- longitud: string (nullable = true)"
     ]
    }
   ],
   "source": [
    "qqp.printSchema()"
   ]
  },
  {
   "cell_type": "code",
   "execution_count": 13,
   "id": "8876f98f",
   "metadata": {},
   "outputs": [
    {
     "data": {
      "application/vnd.jupyter.widget-view+json": {
       "model_id": "",
       "version_major": 2,
       "version_minor": 0
      },
      "text/plain": [
       "FloatProgress(value=0.0, bar_style='info', description='Progress:', layout=Layout(height='25px', width='50%'),…"
      ]
     },
     "metadata": {},
     "output_type": "display_data"
    }
   ],
   "source": [
    "sum_precios = qqp.select(F.sum(col('precio')))"
   ]
  },
  {
   "cell_type": "code",
   "execution_count": 14,
   "id": "caf47d42",
   "metadata": {},
   "outputs": [
    {
     "data": {
      "application/vnd.jupyter.widget-view+json": {
       "model_id": "",
       "version_major": 2,
       "version_minor": 0
      },
      "text/plain": [
       "FloatProgress(value=0.0, bar_style='info', description='Progress:', layout=Layout(height='25px', width='50%'),…"
      ]
     },
     "metadata": {},
     "output_type": "display_data"
    },
    {
     "name": "stdout",
     "output_type": "stream",
     "text": [
      "+-----------+\n",
      "|sum(precio)|\n",
      "+-----------+\n",
      "|45681070852|\n",
      "+-----------+"
     ]
    }
   ],
   "source": [
    "sum_precios.show(10,False)"
   ]
  },
  {
   "cell_type": "code",
   "execution_count": 31,
   "id": "fab9927e",
   "metadata": {},
   "outputs": [
    {
     "data": {
      "application/vnd.jupyter.widget-view+json": {
       "model_id": "",
       "version_major": 2,
       "version_minor": 0
      },
      "text/plain": [
       "FloatProgress(value=0.0, bar_style='info', description='Progress:', layout=Layout(height='25px', width='50%'),…"
      ]
     },
     "metadata": {},
     "output_type": "display_data"
    }
   ],
   "source": [
    "qqp = (qqp\n",
    "           .withColumn(\"anio\", F.year(\"fechaRegistro\"))\n",
    "           .withColumn(\"mes\", F.month(\"fechaRegistro\"))\n",
    "      )"
   ]
  },
  {
   "cell_type": "code",
   "execution_count": 20,
   "id": "a8dee0e2",
   "metadata": {},
   "outputs": [
    {
     "data": {
      "application/vnd.jupyter.widget-view+json": {
       "model_id": "",
       "version_major": 2,
       "version_minor": 0
      },
      "text/plain": [
       "FloatProgress(value=0.0, bar_style='info', description='Progress:', layout=Layout(height='25px', width='50%'),…"
      ]
     },
     "metadata": {},
     "output_type": "display_data"
    }
   ],
   "source": [
    "(qqp\n",
    "     .write\n",
    "     .partitionBy('catalogo')\n",
    "     .mode('overwrite')\n",
    "     .parquet(\"s3://itam-analytics-abcd/preprocessing/merged/merged_parquet\")\n",
    ")"
   ]
  },
  {
   "cell_type": "code",
   "execution_count": 21,
   "id": "5da0ce30",
   "metadata": {},
   "outputs": [
    {
     "data": {
      "application/vnd.jupyter.widget-view+json": {
       "model_id": "",
       "version_major": 2,
       "version_minor": 0
      },
      "text/plain": [
       "FloatProgress(value=0.0, bar_style='info', description='Progress:', layout=Layout(height='25px', width='50%'),…"
      ]
     },
     "metadata": {},
     "output_type": "display_data"
    }
   ],
   "source": [
    "qqp_parquet = spark.read.option(\"header\", True).parquet(\"s3://itam-analytics-abcd/preprocessing/merged/merged_parquet/*\")"
   ]
  },
  {
   "cell_type": "code",
   "execution_count": 22,
   "id": "99786c10",
   "metadata": {},
   "outputs": [
    {
     "data": {
      "application/vnd.jupyter.widget-view+json": {
       "model_id": "",
       "version_major": 2,
       "version_minor": 0
      },
      "text/plain": [
       "FloatProgress(value=0.0, bar_style='info', description='Progress:', layout=Layout(height='25px', width='50%'),…"
      ]
     },
     "metadata": {},
     "output_type": "display_data"
    },
    {
     "name": "stdout",
     "output_type": "stream",
     "text": [
      "+-------------------------+------------------------------------+---------------+-----------------------------------+------+-------------+---------------+-------------------------------------+------------------------------------+---------------------------------------------------------------------------------+--------------+--------------+---------+-----------+----+---+\n",
      "|producto                 |presentacion                        |marca          |categoria                          |precio|fechaRegistro|cadenaComercial|giro                                 |nombreComercial                     |direccion                                                                        |estado        |municipio     |latitud  |longitud   |anio|mes|\n",
      "+-------------------------+------------------------------------+---------------+-----------------------------------+------+-------------+---------------+-------------------------------------+------------------------------------+---------------------------------------------------------------------------------+--------------+--------------+---------+-----------+----+---+\n",
      "|ACEITUNA                 |1 KG. GRANEL. GORDAL                |S/M            |PRODUCTOS DE TEMPORADA (NAVIDE~NOS)|175   |2018-08-20   |MEGA SORIANA   |SUPERMERCADO / TIENDA DE AUTOSERVICIO|MEGA SORIANA SUCURSAL AGUASCALIENTES|AGUASCALIENTES NTE. 802, ESQ. BLVD. A ZACATECAS, COL. TROJES DE ALONSO, CP. 20116|AGUASCALIENTES|AGUASCALIENTES|21.916001|-102.290779|2018|8  |\n",
      "|ACONDICIONADOR Y ENJUAGUE|BOTELLA 670 ML. HIDRADISIACO        |HERBAL ESSENCES|ARTS. PARA EL CUIDADO PERSONAL     |53    |2018-08-20   |MEGA SORIANA   |SUPERMERCADO / TIENDA DE AUTOSERVICIO|MEGA SORIANA SUCURSAL AGUASCALIENTES|AGUASCALIENTES NTE. 802, ESQ. BLVD. A ZACATECAS, COL. TROJES DE ALONSO, CP. 20116|AGUASCALIENTES|AGUASCALIENTES|21.916001|-102.290779|2018|8  |\n",
      "|ACONDICIONADOR Y ENJUAGUE|BOTELLA 500 ML. CONTROL CA'IDA      |PANTENE        |ARTS. PARA EL CUIDADO PERSONAL     |69    |2018-08-20   |MEGA SORIANA   |SUPERMERCADO / TIENDA DE AUTOSERVICIO|MEGA SORIANA SUCURSAL AGUASCALIENTES|AGUASCALIENTES NTE. 802, ESQ. BLVD. A ZACATECAS, COL. TROJES DE ALONSO, CP. 20116|AGUASCALIENTES|AGUASCALIENTES|21.916001|-102.290779|2018|8  |\n",
      "|AGUA CON GAS             |BOTELLA 2 LT.                       |CANADA DRY     |REFRESCOS ENVASADOS                |16    |2018-08-20   |MEGA SORIANA   |SUPERMERCADO / TIENDA DE AUTOSERVICIO|MEGA SORIANA SUCURSAL AGUASCALIENTES|AGUASCALIENTES NTE. 802, ESQ. BLVD. A ZACATECAS, COL. TROJES DE ALONSO, CP. 20116|AGUASCALIENTES|AGUASCALIENTES|21.916001|-102.290779|2018|8  |\n",
      "|AGUA CON GAS             |BOTELLA 2 LT.                       |CIEL           |REFRESCOS ENVASADOS                |16    |2018-08-20   |MEGA SORIANA   |SUPERMERCADO / TIENDA DE AUTOSERVICIO|MEGA SORIANA SUCURSAL AGUASCALIENTES|AGUASCALIENTES NTE. 802, ESQ. BLVD. A ZACATECAS, COL. TROJES DE ALONSO, CP. 20116|AGUASCALIENTES|AGUASCALIENTES|21.916001|-102.290779|2018|8  |\n",
      "|AGUA CON GAS             |BOTELLA 600 ML. LIMON & NADA        |DEL VALLE      |REFRESCOS ENVASADOS                |10    |2018-08-20   |MEGA SORIANA   |SUPERMERCADO / TIENDA DE AUTOSERVICIO|MEGA SORIANA SUCURSAL AGUASCALIENTES|AGUASCALIENTES NTE. 802, ESQ. BLVD. A ZACATECAS, COL. TROJES DE ALONSO, CP. 20116|AGUASCALIENTES|AGUASCALIENTES|21.916001|-102.290779|2018|8  |\n",
      "|AGUA CON GAS             |BOTELLA 2 LT.                       |PE~NAFIEL      |REFRESCOS ENVASADOS                |17    |2018-08-20   |MEGA SORIANA   |SUPERMERCADO / TIENDA DE AUTOSERVICIO|MEGA SORIANA SUCURSAL AGUASCALIENTES|AGUASCALIENTES NTE. 802, ESQ. BLVD. A ZACATECAS, COL. TROJES DE ALONSO, CP. 20116|AGUASCALIENTES|AGUASCALIENTES|21.916001|-102.290779|2018|8  |\n",
      "|AGUA CON GAS             |CANASTILLA C / 6 BOTELLAS DE 296 ML.|PE~NAFIEL      |REFRESCOS ENVASADOS                |35    |2018-08-20   |MEGA SORIANA   |SUPERMERCADO / TIENDA DE AUTOSERVICIO|MEGA SORIANA SUCURSAL AGUASCALIENTES|AGUASCALIENTES NTE. 802, ESQ. BLVD. A ZACATECAS, COL. TROJES DE ALONSO, CP. 20116|AGUASCALIENTES|AGUASCALIENTES|21.916001|-102.290779|2018|8  |\n",
      "|AGUA SIN GAS             |BOTELLA 1.5 LT. LIMON               |BE-LIGHT       |REFRESCOS ENVASADOS                |15    |2018-08-20   |MEGA SORIANA   |SUPERMERCADO / TIENDA DE AUTOSERVICIO|MEGA SORIANA SUCURSAL AGUASCALIENTES|AGUASCALIENTES NTE. 802, ESQ. BLVD. A ZACATECAS, COL. TROJES DE ALONSO, CP. 20116|AGUASCALIENTES|AGUASCALIENTES|21.916001|-102.290779|2018|8  |\n",
      "|AGUA SIN GAS             |BOTELLA 1.5 LT.                     |BONAFONT       |REFRESCOS ENVASADOS                |10    |2018-08-20   |MEGA SORIANA   |SUPERMERCADO / TIENDA DE AUTOSERVICIO|MEGA SORIANA SUCURSAL AGUASCALIENTES|AGUASCALIENTES NTE. 802, ESQ. BLVD. A ZACATECAS, COL. TROJES DE ALONSO, CP. 20116|AGUASCALIENTES|AGUASCALIENTES|21.916001|-102.290779|2018|8  |\n",
      "+-------------------------+------------------------------------+---------------+-----------------------------------+------+-------------+---------------+-------------------------------------+------------------------------------+---------------------------------------------------------------------------------+--------------+--------------+---------+-----------+----+---+\n",
      "only showing top 10 rows"
     ]
    }
   ],
   "source": [
    "qqp_parquet.show(10, False)"
   ]
  },
  {
   "cell_type": "code",
   "execution_count": 27,
   "id": "694b0df5",
   "metadata": {},
   "outputs": [
    {
     "data": {
      "application/vnd.jupyter.widget-view+json": {
       "model_id": "",
       "version_major": 2,
       "version_minor": 0
      },
      "text/plain": [
       "FloatProgress(value=0.0, bar_style='info', description='Progress:', layout=Layout(height='25px', width='50%'),…"
      ]
     },
     "metadata": {},
     "output_type": "display_data"
    },
    {
     "name": "stdout",
     "output_type": "stream",
     "text": [
      "68508948"
     ]
    }
   ],
   "source": [
    "qqp_parquet.count()"
   ]
  },
  {
   "cell_type": "code",
   "execution_count": 32,
   "id": "4c879acc",
   "metadata": {},
   "outputs": [
    {
     "data": {
      "application/vnd.jupyter.widget-view+json": {
       "model_id": "",
       "version_major": 2,
       "version_minor": 0
      },
      "text/plain": [
       "FloatProgress(value=0.0, bar_style='info', description='Progress:', layout=Layout(height='25px', width='50%'),…"
      ]
     },
     "metadata": {},
     "output_type": "display_data"
    },
    {
     "name": "stdout",
     "output_type": "stream",
     "text": [
      "+---------+----------------------------------------------------------------------------+--------------+-------------------+-----------------+------+-------------+---------------+----------------------+---------------------------------+------------------------------------------------------------------+--------------+--------------+---------+-----------+----+---+\n",
      "|producto |presentacion                                                                |marca         |categoria          |catalogo         |precio|fechaRegistro|cadenaComercial|giro                  |nombreComercial                  |direccion                                                         |estado        |municipio     |latitud  |longitud   |anio|mes|\n",
      "+---------+----------------------------------------------------------------------------+--------------+-------------------+-----------------+------+-------------+---------------+----------------------+---------------------------------+------------------------------------------------------------------+--------------+--------------+---------+-----------+----+---+\n",
      "|BATIDORAS|59765. DE INMERSION. 2 VELOCIDADES. SIN TAZON                               |HAMILTON BEACH|APARATOS ELECTRICOS|ELECTRODOMESTICOS|899   |2018-07-09   |LIVERPOOL      |TIENDA DEPARTAMENTALES|LIVERPOOL SUCURSAL AGUASCALIENTES|ZACATECAS NTE. 851, ESQ. ALTARIA, COL. TROJES DE ALONSO, CP. 20200|AGUASCALIENTES|AGUASCALIENTES|21.924271|-102.289721|2018|7  |\n",
      "|BATIDORAS|62647. MANUAL. 6 VELOCIDADES. SIN TAZ'ON                                    |HAMILTON BEACH|APARATOS ELECTRICOS|ELECTRODOMESTICOS|799   |2018-07-09   |LIVERPOOL      |TIENDA DEPARTAMENTALES|LIVERPOOL SUCURSAL AGUASCALIENTES|ZACATECAS NTE. 851, ESQ. ALTARIA, COL. TROJES DE ALONSO, CP. 20200|AGUASCALIENTES|AGUASCALIENTES|21.924271|-102.289721|2018|7  |\n",
      "|BATIDORAS|2532 'O 2532-013. MANUAL. 6 VELOCIDADES. SIN TAZON                          |OSTER         |APARATOS ELECTRICOS|ELECTRODOMESTICOS|699   |2018-07-09   |LIVERPOOL      |TIENDA DEPARTAMENTALES|LIVERPOOL SUCURSAL AGUASCALIENTES|ZACATECAS NTE. 851, ESQ. ALTARIA, COL. TROJES DE ALONSO, CP. 20200|AGUASCALIENTES|AGUASCALIENTES|21.924271|-102.289721|2018|7  |\n",
      "|BATIDORAS|FPSTHB2610W O FPSTHB2610W-013. DE INMERSI'ON. 1 VELOCIDAD. SIN TAZ'ON       |OSTER         |APARATOS ELECTRICOS|ELECTRODOMESTICOS|569   |2018-07-09   |LIVERPOOL      |TIENDA DEPARTAMENTALES|LIVERPOOL SUCURSAL AGUASCALIENTES|ZACATECAS NTE. 851, ESQ. ALTARIA, COL. TROJES DE ALONSO, CP. 20200|AGUASCALIENTES|AGUASCALIENTES|21.924271|-102.289721|2018|7  |\n",
      "|BATIDORAS|FPSTHB2615R O FPSTHB2615R-013. DE INMERSI'ON. VELOCIDAD VARIABLE. SIN TAZ'ON|OSTER         |APARATOS ELECTRICOS|ELECTRODOMESTICOS|949   |2018-07-09   |LIVERPOOL      |TIENDA DEPARTAMENTALES|LIVERPOOL SUCURSAL AGUASCALIENTES|ZACATECAS NTE. 851, ESQ. ALTARIA, COL. TROJES DE ALONSO, CP. 20200|AGUASCALIENTES|AGUASCALIENTES|21.924271|-102.289721|2018|7  |\n",
      "+---------+----------------------------------------------------------------------------+--------------+-------------------+-----------------+------+-------------+---------------+----------------------+---------------------------------+------------------------------------------------------------------+--------------+--------------+---------+-----------+----+---+\n",
      "only showing top 5 rows"
     ]
    }
   ],
   "source": [
    "qqp.show(5,False)"
   ]
  },
  {
   "cell_type": "code",
   "execution_count": 33,
   "id": "d6d3bf15",
   "metadata": {},
   "outputs": [
    {
     "data": {
      "application/vnd.jupyter.widget-view+json": {
       "model_id": "",
       "version_major": 2,
       "version_minor": 0
      },
      "text/plain": [
       "FloatProgress(value=0.0, bar_style='info', description='Progress:', layout=Layout(height='25px', width='50%'),…"
      ]
     },
     "metadata": {},
     "output_type": "display_data"
    }
   ],
   "source": [
    "qqp_2022 = qqp.filter(col(\"anio\") == 2022)"
   ]
  },
  {
   "cell_type": "markdown",
   "id": "16341003",
   "metadata": {},
   "source": [
    "## 1. ¿Cuántos catálogos diferentes tenemos?"
   ]
  },
  {
   "cell_type": "code",
   "execution_count": 36,
   "id": "52d69fb6",
   "metadata": {},
   "outputs": [
    {
     "data": {
      "application/vnd.jupyter.widget-view+json": {
       "model_id": "",
       "version_major": 2,
       "version_minor": 0
      },
      "text/plain": [
       "FloatProgress(value=0.0, bar_style='info', description='Progress:', layout=Layout(height='25px', width='50%'),…"
      ]
     },
     "metadata": {},
     "output_type": "display_data"
    },
    {
     "name": "stdout",
     "output_type": "stream",
     "text": [
      "+-------------------+\n",
      "|           catalogo|\n",
      "+-------------------+\n",
      "|  ELECTRODOMESTICOS|\n",
      "|       MEDICAMENTOS|\n",
      "|           MERCADOS|\n",
      "|              TENIS|\n",
      "|            BASICOS|\n",
      "|PESCADOS Y MARISCOS|\n",
      "|              PACIC|\n",
      "| FRUTAS Y LEGUMBRES|\n",
      "|   UTILES ESCOLARES|\n",
      "|           JUGUETES|\n",
      "|         NAVIDE~NOS|\n",
      "+-------------------+"
     ]
    }
   ],
   "source": [
    "qqp_2022.select(\"catalogo\").distinct().show()"
   ]
  },
  {
   "cell_type": "code",
   "execution_count": 37,
   "id": "76aa354d",
   "metadata": {},
   "outputs": [
    {
     "data": {
      "application/vnd.jupyter.widget-view+json": {
       "model_id": "",
       "version_major": 2,
       "version_minor": 0
      },
      "text/plain": [
       "FloatProgress(value=0.0, bar_style='info', description='Progress:', layout=Layout(height='25px', width='50%'),…"
      ]
     },
     "metadata": {},
     "output_type": "display_data"
    },
    {
     "name": "stdout",
     "output_type": "stream",
     "text": [
      "11"
     ]
    }
   ],
   "source": [
    "qqp_2022.select(\"catalogo\").distinct().count()"
   ]
  },
  {
   "cell_type": "markdown",
   "id": "29557823",
   "metadata": {},
   "source": [
    "## 2. ¿Cuáles son los catálogos con más observaciones?"
   ]
  },
  {
   "cell_type": "code",
   "execution_count": 42,
   "id": "37f7bcf7",
   "metadata": {},
   "outputs": [
    {
     "data": {
      "application/vnd.jupyter.widget-view+json": {
       "model_id": "",
       "version_major": 2,
       "version_minor": 0
      },
      "text/plain": [
       "FloatProgress(value=0.0, bar_style='info', description='Progress:', layout=Layout(height='25px', width='50%'),…"
      ]
     },
     "metadata": {},
     "output_type": "display_data"
    },
    {
     "name": "stdout",
     "output_type": "stream",
     "text": [
      "+-------------------+-------+\n",
      "|           catalogo|  count|\n",
      "+-------------------+-------+\n",
      "|            BASICOS|7945110|\n",
      "|       MEDICAMENTOS|3177815|\n",
      "|  ELECTRODOMESTICOS|1029302|\n",
      "| FRUTAS Y LEGUMBRES| 926031|\n",
      "|   UTILES ESCOLARES| 421178|\n",
      "|           MERCADOS| 367637|\n",
      "|              PACIC| 251709|\n",
      "|           JUGUETES| 180332|\n",
      "|PESCADOS Y MARISCOS| 114753|\n",
      "|         NAVIDE~NOS|  33365|\n",
      "|              TENIS|   2249|\n",
      "+-------------------+-------+"
     ]
    }
   ],
   "source": [
    "qqp_2022.groupBy(\"catalogo\").count().sort(desc(\"count\")).show()"
   ]
  },
  {
   "cell_type": "markdown",
   "id": "3c0efb0d",
   "metadata": {},
   "source": [
    "## 3. ¿Tenemos datos de todos los estados del país? De no ser así, ¿cuáles faltan?"
   ]
  },
  {
   "cell_type": "code",
   "execution_count": 43,
   "id": "33a17df1",
   "metadata": {},
   "outputs": [
    {
     "data": {
      "application/vnd.jupyter.widget-view+json": {
       "model_id": "",
       "version_major": 2,
       "version_minor": 0
      },
      "text/plain": [
       "FloatProgress(value=0.0, bar_style='info', description='Progress:', layout=Layout(height='25px', width='50%'),…"
      ]
     },
     "metadata": {},
     "output_type": "display_data"
    },
    {
     "name": "stdout",
     "output_type": "stream",
     "text": [
      "30"
     ]
    }
   ],
   "source": [
    "qqp_2022.select(\"estado\").distinct().count()"
   ]
  },
  {
   "cell_type": "markdown",
   "id": "12aa4ee4",
   "metadata": {},
   "source": [
    "**Falta Colima y Nayarit**"
   ]
  },
  {
   "cell_type": "markdown",
   "id": "3c556cfd",
   "metadata": {},
   "source": [
    "## 4. ¿Cuántas observaciones tenemos por estado?"
   ]
  },
  {
   "cell_type": "code",
   "execution_count": 49,
   "id": "c39781aa",
   "metadata": {},
   "outputs": [
    {
     "data": {
      "application/vnd.jupyter.widget-view+json": {
       "model_id": "",
       "version_major": 2,
       "version_minor": 0
      },
      "text/plain": [
       "FloatProgress(value=0.0, bar_style='info', description='Progress:', layout=Layout(height='25px', width='50%'),…"
      ]
     },
     "metadata": {},
     "output_type": "display_data"
    },
    {
     "name": "stdout",
     "output_type": "stream",
     "text": [
      "+--------------------+-------+\n",
      "|              estado|  count|\n",
      "+--------------------+-------+\n",
      "|      AGUASCALIENTES| 291820|\n",
      "|     BAJA CALIFORNIA| 160203|\n",
      "| BAJA CALIFORNIA SUR| 282548|\n",
      "|            CAMPECHE| 298464|\n",
      "|             CHIAPAS| 164801|\n",
      "|           CHIHUAHUA| 385359|\n",
      "|   CIUDAD DE M'EXICO|3355847|\n",
      "|COAHUILA DE ZARAGOZA| 232422|\n",
      "|             DURANGO| 247858|\n",
      "|   ESTADO DE M'EXICO|2196972|\n",
      "|          GUANAJUATO| 627679|\n",
      "|            GUERRERO|  77074|\n",
      "|             HIDALGO|  51170|\n",
      "|             JALISCO| 656106|\n",
      "|MICHOAC'AN DE OCAMPO| 256208|\n",
      "|             MORELOS| 266914|\n",
      "|         NUEVO LE'ON| 560027|\n",
      "|              OAXACA| 248123|\n",
      "|              PUEBLA| 356875|\n",
      "|          QUER'ETARO| 417975|\n",
      "|        QUINTANA ROO| 386756|\n",
      "|    SAN LUIS POTOS'I| 283818|\n",
      "|             SINALOA| 162044|\n",
      "|              SONORA| 241272|\n",
      "|             TABASCO| 480664|\n",
      "|          TAMAULIPAS| 191707|\n",
      "|            TLAXCALA| 275868|\n",
      "|            VERACRUZ| 442839|\n",
      "|            YUCAT'AN| 398368|\n",
      "|           ZACATECAS| 451700|\n",
      "+--------------------+-------+"
     ]
    }
   ],
   "source": [
    "qqp_2022.groupBy(\"estado\").count().sort(asc(\"estado\")).show(50)"
   ]
  },
  {
   "cell_type": "markdown",
   "id": "582cef42",
   "metadata": {},
   "source": [
    "## 5. De cada estado obten el número de catalogos diferentes"
   ]
  },
  {
   "cell_type": "code",
   "execution_count": 55,
   "id": "7542aad4",
   "metadata": {},
   "outputs": [
    {
     "data": {
      "application/vnd.jupyter.widget-view+json": {
       "model_id": "",
       "version_major": 2,
       "version_minor": 0
      },
      "text/plain": [
       "FloatProgress(value=0.0, bar_style='info', description='Progress:', layout=Layout(height='25px', width='50%'),…"
      ]
     },
     "metadata": {},
     "output_type": "display_data"
    },
    {
     "name": "stdout",
     "output_type": "stream",
     "text": [
      "+--------------------+---------------+\n",
      "|              estado|count(catalogo)|\n",
      "+--------------------+---------------+\n",
      "|            VERACRUZ|             11|\n",
      "|              OAXACA|             10|\n",
      "|              PUEBLA|             10|\n",
      "|        QUINTANA ROO|             11|\n",
      "|             TABASCO|             11|\n",
      "|             SINALOA|             10|\n",
      "|            YUCAT'AN|             11|\n",
      "|             CHIAPAS|             10|\n",
      "|              SONORA|             11|\n",
      "|             DURANGO|             11|\n",
      "|    SAN LUIS POTOS'I|             11|\n",
      "|            TLAXCALA|             11|\n",
      "|COAHUILA DE ZARAGOZA|             11|\n",
      "|           CHIHUAHUA|             11|\n",
      "|          TAMAULIPAS|             10|\n",
      "| BAJA CALIFORNIA SUR|             11|\n",
      "|             JALISCO|             11|\n",
      "|MICHOAC'AN DE OCAMPO|             11|\n",
      "|          QUER'ETARO|             11|\n",
      "|   CIUDAD DE M'EXICO|             11|\n",
      "|           ZACATECAS|             11|\n",
      "|          GUANAJUATO|             11|\n",
      "|             MORELOS|             11|\n",
      "|     BAJA CALIFORNIA|             11|\n",
      "|            GUERRERO|              8|\n",
      "|             HIDALGO|             10|\n",
      "|      AGUASCALIENTES|             11|\n",
      "|   ESTADO DE M'EXICO|             11|\n",
      "|            CAMPECHE|             11|\n",
      "|         NUEVO LE'ON|             11|\n",
      "+--------------------+---------------+"
     ]
    }
   ],
   "source": [
    "qqp_2022.groupBy(\"estado\").agg(countDistinct(\"catalogo\")).show(50)"
   ]
  },
  {
   "cell_type": "markdown",
   "id": "224c3e78",
   "metadata": {},
   "source": [
    "## Para el catálogo \"Electrodomésticos\""
   ]
  },
  {
   "cell_type": "code",
   "execution_count": 56,
   "id": "e47faa1b",
   "metadata": {},
   "outputs": [
    {
     "data": {
      "application/vnd.jupyter.widget-view+json": {
       "model_id": "",
       "version_major": 2,
       "version_minor": 0
      },
      "text/plain": [
       "FloatProgress(value=0.0, bar_style='info', description='Progress:', layout=Layout(height='25px', width='50%'),…"
      ]
     },
     "metadata": {},
     "output_type": "display_data"
    }
   ],
   "source": [
    "qqp_filtered = qqp.filter(col(\"catalogo\") == \"ELECTRODOMESTICOS\")"
   ]
  },
  {
   "cell_type": "markdown",
   "id": "bfd2504e",
   "metadata": {},
   "source": [
    "## 1. ¿Cuańtas marcas diferentes tiene tu categoría?"
   ]
  },
  {
   "cell_type": "code",
   "execution_count": 57,
   "id": "c1d94b79",
   "metadata": {},
   "outputs": [
    {
     "data": {
      "application/vnd.jupyter.widget-view+json": {
       "model_id": "",
       "version_major": 2,
       "version_minor": 0
      },
      "text/plain": [
       "FloatProgress(value=0.0, bar_style='info', description='Progress:', layout=Layout(height='25px', width='50%'),…"
      ]
     },
     "metadata": {},
     "output_type": "display_data"
    },
    {
     "name": "stdout",
     "output_type": "stream",
     "text": [
      "192"
     ]
    }
   ],
   "source": [
    "qqp_filtered.select(\"marca\").distinct().count()"
   ]
  },
  {
   "cell_type": "markdown",
   "id": "59ffacf5",
   "metadata": {},
   "source": [
    "## 2. ¿Cuál es la marca con mayor precio? ¿En qué estado?"
   ]
  },
  {
   "cell_type": "code",
   "execution_count": 60,
   "id": "57fe9a45",
   "metadata": {},
   "outputs": [
    {
     "data": {
      "application/vnd.jupyter.widget-view+json": {
       "model_id": "",
       "version_major": 2,
       "version_minor": 0
      },
      "text/plain": [
       "FloatProgress(value=0.0, bar_style='info', description='Progress:', layout=Layout(height='25px', width='50%'),…"
      ]
     },
     "metadata": {},
     "output_type": "display_data"
    },
    {
     "name": "stdout",
     "output_type": "stream",
     "text": [
      "+-------+------+------+\n",
      "|marca  |precio|estado|\n",
      "+-------+------+------+\n",
      "|SAMSUNG|114999|PUEBLA|\n",
      "+-------+------+------+\n",
      "only showing top 1 row"
     ]
    }
   ],
   "source": [
    "qqp_filtered.select(\"marca\", \"precio\", \"estado\").sort(desc(\"precio\")).show(1,False)"
   ]
  },
  {
   "cell_type": "markdown",
   "id": "41efb78b",
   "metadata": {},
   "source": [
    "## 3. ¿Cuál es la marca con menor precio en CDMX? (en aquel entonces Distrito Federal)"
   ]
  },
  {
   "cell_type": "code",
   "execution_count": 66,
   "id": "7ae49a47",
   "metadata": {},
   "outputs": [
    {
     "data": {
      "application/vnd.jupyter.widget-view+json": {
       "model_id": "",
       "version_major": 2,
       "version_minor": 0
      },
      "text/plain": [
       "FloatProgress(value=0.0, bar_style='info', description='Progress:', layout=Layout(height='25px', width='50%'),…"
      ]
     },
     "metadata": {},
     "output_type": "display_data"
    },
    {
     "name": "stdout",
     "output_type": "stream",
     "text": [
      "+-----+------+\n",
      "|marca|precio|\n",
      "+-----+------+\n",
      "|ACROS|   100|\n",
      "+-----+------+\n",
      "only showing top 1 row"
     ]
    }
   ],
   "source": [
    "qqp_filtered.select(\"marca\", \"precio\").filter(col(\"estado\") == \"CIUDAD DE M'EXICO\").sort(asc(\"precio\")).show(1)"
   ]
  },
  {
   "cell_type": "markdown",
   "id": "8304d514",
   "metadata": {},
   "source": [
    "## 4. ¿Cuál es la marca con mayores observaciones?"
   ]
  },
  {
   "cell_type": "code",
   "execution_count": 65,
   "id": "4e122c80",
   "metadata": {},
   "outputs": [
    {
     "data": {
      "application/vnd.jupyter.widget-view+json": {
       "model_id": "",
       "version_major": 2,
       "version_minor": 0
      },
      "text/plain": [
       "FloatProgress(value=0.0, bar_style='info', description='Progress:', layout=Layout(height='25px', width='50%'),…"
      ]
     },
     "metadata": {},
     "output_type": "display_data"
    },
    {
     "name": "stdout",
     "output_type": "stream",
     "text": [
      "+-----+------+\n",
      "|marca| count|\n",
      "+-----+------+\n",
      "| MABE|721184|\n",
      "+-----+------+\n",
      "only showing top 1 row"
     ]
    }
   ],
   "source": [
    "qqp_filtered.groupBy(\"marca\").count().sort(desc(\"count\")).show(1)"
   ]
  },
  {
   "cell_type": "code",
   "execution_count": 75,
   "id": "ac6faaf8",
   "metadata": {},
   "outputs": [
    {
     "data": {
      "application/vnd.jupyter.widget-view+json": {
       "model_id": "",
       "version_major": 2,
       "version_minor": 0
      },
      "text/plain": [
       "FloatProgress(value=0.0, bar_style='info', description='Progress:', layout=Layout(height='25px', width='50%'),…"
      ]
     },
     "metadata": {},
     "output_type": "display_data"
    }
   ],
   "source": [
    "serie_tiempo = (qqp_filtered\n",
    "             .select(\"precio\", \"estado\", \"anio\")\n",
    "             .filter(col(\"marca\") == \"SAMSUNG\")\n",
    "             .groupBy(\"estado\", \"anio\")\n",
    "             .agg(F.max(col(\"precio\")))\n",
    "             .sort(asc(col(\"estado\")), asc(col(\"anio\")))\n",
    ")"
   ]
  },
  {
   "cell_type": "code",
   "execution_count": 76,
   "id": "15b479b1",
   "metadata": {},
   "outputs": [
    {
     "data": {
      "application/vnd.jupyter.widget-view+json": {
       "model_id": "",
       "version_major": 2,
       "version_minor": 0
      },
      "text/plain": [
       "FloatProgress(value=0.0, bar_style='info', description='Progress:', layout=Layout(height='25px', width='50%'),…"
      ]
     },
     "metadata": {},
     "output_type": "display_data"
    },
    {
     "name": "stdout",
     "output_type": "stream",
     "text": [
      "+---------------+----+-----------+\n",
      "|         estado|anio|max(precio)|\n",
      "+---------------+----+-----------+\n",
      "| AGUASCALIENTES|2018|      77141|\n",
      "| AGUASCALIENTES|2019|      52499|\n",
      "| AGUASCALIENTES|2020|      49999|\n",
      "| AGUASCALIENTES|2021|      52999|\n",
      "| AGUASCALIENTES|2022|      52999|\n",
      "|BAJA CALIFORNIA|2018|      64999|\n",
      "|BAJA CALIFORNIA|2019|      32549|\n",
      "|BAJA CALIFORNIA|2020|      68499|\n",
      "|BAJA CALIFORNIA|2021|      40999|\n",
      "|BAJA CALIFORNIA|2022|      39000|\n",
      "+---------------+----+-----------+\n",
      "only showing top 10 rows"
     ]
    }
   ],
   "source": [
    "serie_tiempo.show(10)"
   ]
  },
  {
   "cell_type": "code",
   "execution_count": 82,
   "id": "f994dc8b",
   "metadata": {},
   "outputs": [
    {
     "data": {
      "application/vnd.jupyter.widget-view+json": {
       "model_id": "",
       "version_major": 2,
       "version_minor": 0
      },
      "text/plain": [
       "FloatProgress(value=0.0, bar_style='info', description='Progress:', layout=Layout(height='25px', width='50%'),…"
      ]
     },
     "metadata": {},
     "output_type": "display_data"
    }
   ],
   "source": [
    "(serie_tiempo\n",
    "     .write\n",
    "     .mode('overwrite')\n",
    "     .csv(\"s3://itam-analytics-abcd/results/serie_tiempo_csv\")\n",
    ")"
   ]
  },
  {
   "cell_type": "code",
   "execution_count": 37,
   "id": "8e736563",
   "metadata": {},
   "outputs": [],
   "source": [
    "import pandas as pd\n",
    "import seaborn as sns\n",
    "import matplotlib.pyplot as plt\n",
    "\n",
    "col_names = [\"estado\", \"anio\", \"max_val\"]\n",
    "serie_tiempo_csv = pd.read_csv(\"serie_tiempo.csv\", names=col_names, header=None)\n",
    "serie_tiempo_csv[\"anio\"] = serie_tiempo_csv[\"anio\"].astype(\"int\")"
   ]
  },
  {
   "cell_type": "code",
   "execution_count": 43,
   "id": "a37ab016",
   "metadata": {},
   "outputs": [
    {
     "data": {
      "text/plain": [
       "<matplotlib.legend.Legend at 0x17de098d0>"
      ]
     },
     "execution_count": 43,
     "metadata": {},
     "output_type": "execute_result"
    },
    {
     "data": {
      "image/png": "[encoded data removed]",
      "text/plain": [
       "<Figure size 640x480 with 1 Axes>"
      ]
     },
     "metadata": {},
     "output_type": "display_data"
    }
   ],
   "source": [
    "sns.lineplot(data=serie_tiempo_csv, x=\"anio\", y=\"max_val\", hue=\"estado\")\n",
    "plt.legend(loc='upper center', bbox_to_anchor=(.5, 1.4),\n",
    "          ncol=5, fancybox=True, fontsize=9)\n",
    "#plt.legend(loc='lower center', fontsize=\"5\")"
   ]
  }
 ],
 "metadata": {
  "kernelspec": {
   "display_name": "arqproddatos",
   "language": "python",
   "name": "python3"
  },
  "language_info": {
   "codemirror_mode": {
    "name": "ipython",
    "version": 3
   },
   "file_extension": ".py",
   "mimetype": "text/x-python",
   "name": "python",
   "nbconvert_exporter": "python",
   "pygments_lexer": "ipython3",
   "version": "3.10.9"
  }
 },
 "nbformat": 4,
 "nbformat_minor": 5
}
